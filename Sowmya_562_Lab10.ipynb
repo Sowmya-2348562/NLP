{
  "nbformat": 4,
  "nbformat_minor": 0,
  "metadata": {
    "colab": {
      "provenance": [],
      "authorship_tag": "ABX9TyOkU9T5MzzDk9u9nJhZYFlD",
      "include_colab_link": true
    },
    "kernelspec": {
      "name": "python3",
      "display_name": "Python 3"
    },
    "language_info": {
      "name": "python"
    }
  },
  "cells": [
    {
      "cell_type": "markdown",
      "metadata": {
        "id": "view-in-github",
        "colab_type": "text"
      },
      "source": [
        "<a href=\"https://colab.research.google.com/github/Sowmya-2348562/NLP/blob/main/Sowmya_562_Lab10.ipynb\" target=\"_parent\"><img src=\"https://colab.research.google.com/assets/colab-badge.svg\" alt=\"Open In Colab\"/></a>"
      ]
    },
    {
      "cell_type": "markdown",
      "source": [
        "Context based Question Answering System\n",
        "\n",
        "Loading the context and question\n",
        "\n",
        "\n"
      ],
      "metadata": {
        "id": "tIdloZSZ0l1a"
      }
    },
    {
      "cell_type": "code",
      "source": [
        "import numpy as np\n",
        "import string\n",
        "import spacy\n",
        "from tensorflow.keras.models import Sequential\n",
        "from tensorflow.keras.layers import LSTM, Embedding, Dense\n",
        "from tensorflow.keras.preprocessing.text import Tokenizer\n",
        "from tensorflow.keras.preprocessing.sequence import pad_sequences"
      ],
      "metadata": {
        "id": "0sc6Yb4Q1NYE"
      },
      "execution_count": null,
      "outputs": []
    },
    {
      "cell_type": "code",
      "execution_count": null,
      "metadata": {
        "id": "aZ3r9TvhZjv4"
      },
      "outputs": [],
      "source": [
        "contexts = \"CHRIST (Deemed to be University) was born out of the educational vision of St Kuriakose Elias Chavara, an educationalist and social reformer of the nineteenth century in South India. He founded the first Catholic indigenous congregation, Carmelites of Mary Immaculate (CMI), in 1831 which administers CHRIST (Deemed to be University). CHRIST (Deemed to be University) was established as Christ College in 1969. It undertook path- breaking initiatives in Indian higher education with the introduction of innovative and modern curricula, insistence on academic discipline, imparting of Holistic Education and adoption of global higher education practices with the support of creative and dedicated staff.\""
      ]
    },
    {
      "cell_type": "markdown",
      "source": [
        "Preprocessing"
      ],
      "metadata": {
        "id": "oOtCx8A403pt"
      }
    },
    {
      "cell_type": "code",
      "source": [
        "contexts=contexts.lower()\n",
        "import string\n",
        "for punctuation in string.punctuation:\n",
        "    contexts=contexts.replace(punctuation, '')"
      ],
      "metadata": {
        "id": "VgZ2yiiD0xsg"
      },
      "execution_count": null,
      "outputs": []
    },
    {
      "cell_type": "markdown",
      "source": [
        "Name Entity Recognition"
      ],
      "metadata": {
        "id": "TT0kZWhF04h7"
      }
    },
    {
      "cell_type": "code",
      "source": [
        "import spacy\n",
        "nlp = spacy.load(\"en_core_web_sm\")\n",
        "tokenized_sentences = []\n",
        "ner_labels = []\n",
        "\n",
        "for context in contexts:\n",
        "    doc = nlp(context)\n",
        "    tokenized_sentence = []\n",
        "    labels = []\n",
        "    for token in doc:\n",
        "        tokenized_sentence.append(token.text)\n",
        "        labels.append(token.ent_iob_ + \"-\" + token.ent_type_ if token.ent_iob_ != \"O\" else \"O\")\n",
        "    tokenized_sentences.append(tokenized_sentence)\n",
        "    ner_labels.append(labels)\n",
        "\n",
        "label_to_index = {\n",
        "    \"O\": 0,\n",
        "    \"B-PER\": 1, \"I-PER\": 2,\n",
        "    \"B-ORG\": 3, \"I-ORG\": 4,\n",
        "    \"B-DATE\": 5, \"I-DATE\": 6,\n",
        "    \"B-GPE\": 7, \"I-GPE\": 8,\n",
        "    \"B-ORDINAL\": 9, \"B-NORP\":10,\n",
        "    \"B-CARDINAL\":11\n",
        "}\n",
        "indexed_labels = [[label_to_index[label] for label in labels] for labels in ner_labels]"
      ],
      "metadata": {
        "id": "wYjSQFQf01GO"
      },
      "execution_count": null,
      "outputs": []
    },
    {
      "cell_type": "markdown",
      "source": [
        "Padding and Tokenizing"
      ],
      "metadata": {
        "id": "Z5vVer070_4h"
      }
    },
    {
      "cell_type": "code",
      "source": [
        "from tensorflow.keras.preprocessing.text import Tokenizer\n",
        "from tensorflow.keras.preprocessing.sequence import pad_sequences\n",
        "tokenizer = Tokenizer()\n",
        "tokenizer.fit_on_texts(tokenized_sentences)\n",
        "word_index = tokenizer.word_index\n",
        "sequences = tokenizer.texts_to_sequences(tokenized_sentences)\n",
        "\n",
        "# Padding sequences\n",
        "max_sequence_length = max(len(seq) for seq in sequences)\n",
        "padded_sequences = pad_sequences(sequences, maxlen=max_sequence_length)"
      ],
      "metadata": {
        "id": "qyrO5TQz09eH"
      },
      "execution_count": null,
      "outputs": []
    },
    {
      "cell_type": "code",
      "source": [
        "padded_labels = [0, 1, 2, 0, 2]"
      ],
      "metadata": {
        "id": "IvX4DDZbcgM9"
      },
      "execution_count": null,
      "outputs": []
    },
    {
      "cell_type": "markdown",
      "source": [
        "One hot encoding"
      ],
      "metadata": {
        "id": "xVL1I7SH1FFh"
      }
    },
    {
      "cell_type": "code",
      "source": [
        "# Padding labels\n",
        "max_label_length = max(len(labels) for labels in indexed_labels)\n",
        "padded_labels = pad_sequences(indexed_labels, maxlen=max_label_length, padding='post')\n",
        "\n",
        "# One hot encoding\n",
        "num_classes = len(label_to_index)\n",
        "labels_one_hot = np.eye(num_classes)[padded_labels]\n",
        "\n",
        "# Building LSTM model\n",
        "embedding_dim = 50\n",
        "vocab_size = len(word_index) + 1\n",
        "model = Sequential([\n",
        "    Embedding(input_dim=vocab_size, output_dim=embedding_dim, input_length=max_sequence_length),\n",
        "    LSTM(100, return_sequences=True),\n",
        "    Dense(num_classes, activation='softmax')\n",
        "])\n",
        "\n",
        "model.compile(loss='categorical_crossentropy', optimizer='adam', metrics=['accuracy'])\n",
        "\n",
        "model.fit(padded_sequences, labels_one_hot, epochs=10, verbose=1)\n",
        "\n",
        "\n"
      ],
      "metadata": {
        "colab": {
          "base_uri": "https://localhost:8080/"
        },
        "id": "YDEdCmgien3w",
        "outputId": "8231f102-ffa8-48bd-f7a5-156cc4ebf343"
      },
      "execution_count": null,
      "outputs": [
        {
          "output_type": "stream",
          "name": "stdout",
          "text": [
            "Epoch 1/10\n",
            "1/1 [==============================] - 3s 3s/step - loss: 2.4890 - accuracy: 0.0294\n",
            "Epoch 2/10\n",
            "1/1 [==============================] - 0s 132ms/step - loss: 2.4716 - accuracy: 0.6765\n",
            "Epoch 3/10\n",
            "1/1 [==============================] - 0s 150ms/step - loss: 2.4534 - accuracy: 0.9118\n",
            "Epoch 4/10\n",
            "1/1 [==============================] - 0s 142ms/step - loss: 2.4328 - accuracy: 0.9118\n",
            "Epoch 5/10\n",
            "1/1 [==============================] - 0s 143ms/step - loss: 2.4080 - accuracy: 0.9118\n",
            "Epoch 6/10\n",
            "1/1 [==============================] - 0s 148ms/step - loss: 2.3770 - accuracy: 0.9118\n",
            "Epoch 7/10\n",
            "1/1 [==============================] - 0s 138ms/step - loss: 2.3364 - accuracy: 0.9118\n",
            "Epoch 8/10\n",
            "1/1 [==============================] - 0s 158ms/step - loss: 2.2809 - accuracy: 0.9118\n",
            "Epoch 9/10\n",
            "1/1 [==============================] - 0s 123ms/step - loss: 2.2004 - accuracy: 0.9118\n",
            "Epoch 10/10\n",
            "1/1 [==============================] - 0s 135ms/step - loss: 2.0739 - accuracy: 0.9118\n"
          ]
        },
        {
          "output_type": "execute_result",
          "data": {
            "text/plain": [
              "<keras.src.callbacks.History at 0x7c4c83a88550>"
            ]
          },
          "metadata": {},
          "execution_count": 39
        }
      ]
    },
    {
      "cell_type": "code",
      "source": [
        "# Predicting the answer\n",
        "user_input = \"What year was CHRIST university established?\"\n",
        "user_input_tokens = user_input.split()\n",
        "user_input_sequences = tokenizer.texts_to_sequences([user_input_tokens])\n",
        "user_input_padded = pad_sequences(user_input_sequences, maxlen=max_sequence_length)\n",
        "\n",
        "predicted_labels_one_hot = model.predict(user_input_padded)\n",
        "predicted_labels_indices = np.argmax(predicted_labels_one_hot, axis=-1)\n",
        "index_to_label = {v: k for k, v in label_to_index.items()}\n",
        "predicted_labels = [index_to_label[idx] for idx in predicted_labels_indices[0]]\n",
        "\n",
        "answer = \"\"\n",
        "for token, label in zip(user_input_tokens, predicted_labels):\n",
        "    if label != 'O':\n",
        "        answer += token + \" \"\n"
      ],
      "metadata": {
        "colab": {
          "base_uri": "https://localhost:8080/"
        },
        "id": "bOSv3cM8hEKK",
        "outputId": "af1f2445-1821-42bb-c1e9-c260ef48fde1"
      },
      "execution_count": null,
      "outputs": [
        {
          "output_type": "stream",
          "name": "stdout",
          "text": [
            "1/1 [==============================] - 0s 32ms/step\n",
            "\n"
          ]
        }
      ]
    },
    {
      "cell_type": "code",
      "source": [
        "# Print the answer\n",
        "print(\"Answer:\", answer['answer'])\n"
      ],
      "metadata": {
        "colab": {
          "base_uri": "https://localhost:8080/"
        },
        "id": "ESTlB6pqg3UK",
        "outputId": "7ecee12c-d05f-4752-de56-e4394af69db2"
      },
      "execution_count": null,
      "outputs": [
        {
          "output_type": "stream",
          "name": "stdout",
          "text": [
            "Answer: 1969\n"
          ]
        }
      ]
    },
    {
      "cell_type": "code",
      "source": [],
      "metadata": {
        "id": "2-ByFQEiYVdN"
      },
      "execution_count": null,
      "outputs": []
    }
  ]
}