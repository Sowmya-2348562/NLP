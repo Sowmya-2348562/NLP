{
  "nbformat": 4,
  "nbformat_minor": 0,
  "metadata": {
    "colab": {
      "provenance": [],
      "authorship_tag": "ABX9TyNOXfEih1kbavsHv81qAs4h",
      "include_colab_link": true
    },
    "kernelspec": {
      "name": "python3",
      "display_name": "Python 3"
    },
    "language_info": {
      "name": "python"
    }
  },
  "cells": [
    {
      "cell_type": "markdown",
      "metadata": {
        "id": "view-in-github",
        "colab_type": "text"
      },
      "source": [
        "<a href=\"https://colab.research.google.com/github/Sowmya-2348562/NLP/blob/main/Sowmya_562_Lab5.ipynb\" target=\"_parent\"><img src=\"https://colab.research.google.com/assets/colab-badge.svg\" alt=\"Open In Colab\"/></a>"
      ]
    },
    {
      "cell_type": "code",
      "source": [
        "import nltk\n",
        "nltk.download('wordnet')"
      ],
      "metadata": {
        "colab": {
          "base_uri": "https://localhost:8080/"
        },
        "id": "J7yTgH946usV",
        "outputId": "44e45d6c-edc0-4fe2-e3b7-21986e8aaee8"
      },
      "execution_count": null,
      "outputs": [
        {
          "output_type": "stream",
          "name": "stderr",
          "text": [
            "[nltk_data] Downloading package wordnet to /root/nltk_data...\n",
            "[nltk_data]   Package wordnet is already up-to-date!\n"
          ]
        },
        {
          "output_type": "execute_result",
          "data": {
            "text/plain": [
              "True"
            ]
          },
          "metadata": {},
          "execution_count": 6
        }
      ]
    },
    {
      "cell_type": "markdown",
      "source": [
        "1. Write a program to get Antonyms from WordNet."
      ],
      "metadata": {
        "id": "EF3xsKdMM5oe"
      }
    },
    {
      "cell_type": "code",
      "execution_count": null,
      "metadata": {
        "colab": {
          "base_uri": "https://localhost:8080/"
        },
        "id": "5LNiustL48Rs",
        "outputId": "0be6fe4c-3f29-4723-ec98-b3641c57f2b7"
      },
      "outputs": [
        {
          "output_type": "stream",
          "name": "stdout",
          "text": [
            "Antonyms of happy: ['unhappy']\n",
            "Antonyms of hot: ['cold', 'cold']\n",
            "Antonyms of fast: ['slow', 'slow', 'slow']\n",
            "Antonyms of big: ['small', 'little', 'small']\n",
            "Antonyms of kind: ['unkind']\n"
          ]
        }
      ],
      "source": [
        "from nltk.corpus import wordnet\n",
        "\n",
        "def get_antonyms(word):\n",
        "    antonyms = []\n",
        "    for syn in wordnet.synsets(word):\n",
        "        for lemma in syn.lemmas():\n",
        "            if lemma.antonyms():\n",
        "                antonyms.append(lemma.antonyms()[0].name())\n",
        "    return antonyms\n",
        "\n",
        "word1 = \"happy\"\n",
        "word2 = \"hot\"\n",
        "word3 = \"fast\"\n",
        "word4 = \"big\"\n",
        "word5 = \"kind\"\n",
        "\n",
        "print(f\"Antonyms of {word1}: {get_antonyms(word1)}\")\n",
        "print(f\"Antonyms of {word2}: {get_antonyms(word2)}\")\n",
        "print(f\"Antonyms of {word3}: {get_antonyms(word3)}\")\n",
        "print(f\"Antonyms of {word4}: {get_antonyms(word4)}\")\n",
        "print(f\"Antonyms of {word5}: {get_antonyms(word5)}\")\n"
      ]
    },
    {
      "cell_type": "markdown",
      "source": [
        "2. Write a program for stemming non-English words."
      ],
      "metadata": {
        "id": "tygQqYTIM-8S"
      }
    },
    {
      "cell_type": "code",
      "source": [
        "from snowballstemmer import stemmer\n",
        "\n",
        "def stem_non_english_word(word, language_code):\n",
        "    stem = stemmer(language_code)\n",
        "    return stem.stemWord(word)\n",
        "\n",
        "word1 = \"amigos\"\n",
        "word2 = \"feuilles\"\n",
        "word3 = \"Freunde\"\n",
        "word4 = \"amici\"\n",
        "word5 = \"amigos\"\n",
        "\n",
        "language_code = \"spanish\"\n",
        "\n",
        "print(f\"Stemmed word for {word1} in {language_code}: {stem_non_english_word(word1, language_code)}\")\n",
        "print(f\"Stemmed word for {word2} in {language_code}: {stem_non_english_word(word2, language_code)}\")\n",
        "print(f\"Stemmed word for {word3} in {language_code}: {stem_non_english_word(word3, language_code)}\")\n",
        "print(f\"Stemmed word for {word4} in {language_code}: {stem_non_english_word(word4, language_code)}\")\n",
        "print(f\"Stemmed word for {word5} in {language_code}: {stem_non_english_word(word5, language_code)}\")\n"
      ],
      "metadata": {
        "colab": {
          "base_uri": "https://localhost:8080/"
        },
        "id": "s4V9TxQk6oAJ",
        "outputId": "c0f99ecb-9253-4e6e-b4d0-419230fd7ae9"
      },
      "execution_count": null,
      "outputs": [
        {
          "output_type": "stream",
          "name": "stdout",
          "text": [
            "Stemmed word for amigos in spanish: amig\n",
            "Stemmed word for feuilles in spanish: feuill\n",
            "Stemmed word for Freunde in spanish: Freund\n",
            "Stemmed word for amici in spanish: amici\n",
            "Stemmed word for amigos in spanish: amig\n"
          ]
        }
      ]
    },
    {
      "cell_type": "markdown",
      "source": [
        "3. Write a program for lemmatizing words Using WordNet (Use all type of stemmers for the  comparison)."
      ],
      "metadata": {
        "id": "m47Up8HiNC1e"
      }
    },
    {
      "cell_type": "code",
      "source": [
        "from nltk.stem import PorterStemmer, LancasterStemmer, SnowballStemmer, WordNetLemmatizer\n",
        "from nltk.corpus import wordnet\n",
        "\n",
        "def compare_stemmers(word):\n",
        "    porter_stemmer = PorterStemmer()\n",
        "    lancaster_stemmer = LancasterStemmer()\n",
        "    snowball_stemmer = SnowballStemmer(\"english\")\n",
        "    wordnet_lemmatizer = WordNetLemmatizer()\n",
        "\n",
        "    print(f\"Word: {word}\")\n",
        "    print(f\"Porter Stemmer: {porter_stemmer.stem(word)}\")\n",
        "    print(f\"Lancaster Stemmer: {lancaster_stemmer.stem(word)}\")\n",
        "    print(f\"Snowball Stemmer: {snowball_stemmer.stem(word)}\")\n",
        "    print(f\"WordNet Lemmatizer: {wordnet_lemmatizer.lemmatize(word, wordnet.VERB)}\")\n",
        "\n",
        "word1 = \"running\"\n",
        "word2 = \"cats\"\n",
        "word3 = \"going\"\n",
        "word4 = \"better\"\n",
        "word5 = \"beautiful\"\n",
        "\n",
        "compare_stemmers(word1)\n",
        "compare_stemmers(word2)\n",
        "compare_stemmers(word3)\n",
        "compare_stemmers(word4)\n",
        "compare_stemmers(word5)\n"
      ],
      "metadata": {
        "colab": {
          "base_uri": "https://localhost:8080/"
        },
        "id": "E9HOIIiF9AEW",
        "outputId": "56fac826-46da-4d0e-9047-e1a8f170518a"
      },
      "execution_count": null,
      "outputs": [
        {
          "output_type": "stream",
          "name": "stdout",
          "text": [
            "Word: running\n",
            "Porter Stemmer: run\n",
            "Lancaster Stemmer: run\n",
            "Snowball Stemmer: run\n",
            "WordNet Lemmatizer: run\n",
            "Word: cats\n",
            "Porter Stemmer: cat\n",
            "Lancaster Stemmer: cat\n",
            "Snowball Stemmer: cat\n",
            "WordNet Lemmatizer: cat\n",
            "Word: going\n",
            "Porter Stemmer: go\n",
            "Lancaster Stemmer: going\n",
            "Snowball Stemmer: go\n",
            "WordNet Lemmatizer: go\n",
            "Word: better\n",
            "Porter Stemmer: better\n",
            "Lancaster Stemmer: bet\n",
            "Snowball Stemmer: better\n",
            "WordNet Lemmatizer: better\n",
            "Word: beautiful\n",
            "Porter Stemmer: beauti\n",
            "Lancaster Stemmer: beauty\n",
            "Snowball Stemmer: beauti\n",
            "WordNet Lemmatizer: beautiful\n"
          ]
        }
      ]
    },
    {
      "cell_type": "markdown",
      "source": [
        "4. Write a program to differentiate stemming and lemmatizing words.\n"
      ],
      "metadata": {
        "id": "K9ZY9VX0NPiA"
      }
    },
    {
      "cell_type": "code",
      "source": [
        "import nltk\n",
        "from nltk.stem import PorterStemmer, WordNetLemmatizer\n",
        "\n",
        "words = [\"cats\", \"running\", \"geese\", \"better\", \"dancing\"]\n",
        "porter_stemmer = PorterStemmer()\n",
        "wordnet_lemmatizer = WordNetLemmatizer()\n",
        "\n",
        "for word in words:\n",
        "    stemmed_word = porter_stemmer.stem(word)\n",
        "    lemmatized_word = wordnet_lemmatizer.lemmatize(word)\n",
        "\n",
        "    print(f\"Word: {word} | Porter Stemmer: {stemmed_word} | WordNet Lemmatizer: {lemmatized_word}\")\n"
      ],
      "metadata": {
        "colab": {
          "base_uri": "https://localhost:8080/"
        },
        "id": "n3FHsAfu_qTR",
        "outputId": "26101175-0ad2-43ce-84b9-ed99cf2c52cb"
      },
      "execution_count": null,
      "outputs": [
        {
          "output_type": "stream",
          "name": "stdout",
          "text": [
            "Word: cats | Porter Stemmer: cat | WordNet Lemmatizer: cat\n",
            "Word: running | Porter Stemmer: run | WordNet Lemmatizer: running\n",
            "Word: geese | Porter Stemmer: gees | WordNet Lemmatizer: goose\n",
            "Word: better | Porter Stemmer: better | WordNet Lemmatizer: better\n",
            "Word: dancing | Porter Stemmer: danc | WordNet Lemmatizer: dancing\n"
          ]
        }
      ]
    },
    {
      "cell_type": "markdown",
      "source": [
        "5. Write a program for PoS Tagging and also execute any of the tool that given in class"
      ],
      "metadata": {
        "id": "gKCt4pCwNWRP"
      }
    },
    {
      "cell_type": "code",
      "source": [
        "import nltk\n",
        "nltk.download('punkt')\n",
        "import nltk\n",
        "from nltk.tokenize import word_tokenize\n",
        "import nltk\n",
        "nltk.download('averaged_perceptron_tagger')\n",
        "\n",
        "# Tokenizing and POS Tagging\n",
        "sentence = \"I love coding in Python\"\n",
        "words = word_tokenize(sentence)\n",
        "pos_tags = nltk.pos_tag(words)\n",
        "print(pos_tags)\n",
        "\n",
        "# Corpus\n",
        "sowmya_corpus = [ \"Sowmya is currently pursuing a Master's in Artificial Intelligence and Machine Learning at Christ University.\",\n",
        "\"As a dedicated student, she is gaining in-depth knowledge and practical experience in the field of AI and ML.\",\n",
        "\"Sowmya's commitment to furthering her education in this cutting-edge field reflects her passion for technology and innovation.\"\n",
        "]\n",
        "\n",
        "for sentence in sowmya_corpus:\n",
        "    words = word_tokenize(sentence)\n",
        "    pos_tags = nltk.pos_tag(words)\n",
        "    print(pos_tags)\n"
      ],
      "metadata": {
        "colab": {
          "base_uri": "https://localhost:8080/"
        },
        "id": "Bk3pYknkIDTB",
        "outputId": "d3aa33d8-22cf-4000-8f1e-5cdbba44258f"
      },
      "execution_count": null,
      "outputs": [
        {
          "output_type": "stream",
          "name": "stderr",
          "text": [
            "[nltk_data] Downloading package punkt to /root/nltk_data...\n",
            "[nltk_data]   Package punkt is already up-to-date!\n",
            "[nltk_data] Downloading package averaged_perceptron_tagger to\n",
            "[nltk_data]     /root/nltk_data...\n",
            "[nltk_data]   Unzipping taggers/averaged_perceptron_tagger.zip.\n"
          ]
        },
        {
          "output_type": "stream",
          "name": "stdout",
          "text": [
            "[('I', 'PRP'), ('love', 'VBP'), ('coding', 'VBG'), ('in', 'IN'), ('Python', 'NNP')]\n",
            "[('Sowmya', 'NNP'), ('is', 'VBZ'), ('currently', 'RB'), ('pursuing', 'VBG'), ('a', 'DT'), ('Master', 'NN'), (\"'s\", 'POS'), ('in', 'IN'), ('Artificial', 'NNP'), ('Intelligence', 'NNP'), ('and', 'CC'), ('Machine', 'NNP'), ('Learning', 'NNP'), ('at', 'IN'), ('Christ', 'NNP'), ('University', 'NNP'), ('.', '.')]\n",
            "[('As', 'IN'), ('a', 'DT'), ('dedicated', 'JJ'), ('student', 'NN'), (',', ','), ('she', 'PRP'), ('is', 'VBZ'), ('gaining', 'VBG'), ('in-depth', 'JJ'), ('knowledge', 'NN'), ('and', 'CC'), ('practical', 'JJ'), ('experience', 'NN'), ('in', 'IN'), ('the', 'DT'), ('field', 'NN'), ('of', 'IN'), ('AI', 'NNP'), ('and', 'CC'), ('ML', 'NNP'), ('.', '.')]\n",
            "[('Sowmya', 'NNP'), (\"'s\", 'POS'), ('commitment', 'NN'), ('to', 'TO'), ('furthering', 'VBG'), ('her', 'PRP$'), ('education', 'NN'), ('in', 'IN'), ('this', 'DT'), ('cutting-edge', 'JJ'), ('field', 'NN'), ('reflects', 'VBZ'), ('her', 'PRP$'), ('passion', 'NN'), ('for', 'IN'), ('technology', 'NN'), ('and', 'CC'), ('innovation', 'NN'), ('.', '.')]\n"
          ]
        }
      ]
    },
    {
      "cell_type": "markdown",
      "source": [
        "       6. Write a program to identify the Named Entity Recognition and also execute any of the tool  that given in class."
      ],
      "metadata": {
        "id": "vHxvy3xCNu1v"
      }
    },
    {
      "cell_type": "code",
      "source": [
        "import nltk\n",
        "from nltk import ne_chunk\n",
        "nltk.download('maxent_ne_chunker')\n",
        "nltk.download('words')\n",
        "\n",
        "# Sample sentences for NER\n",
        "sentence1 = \"Sowmya is studying in Christ University.\"\n",
        "sentence2 = \"She is pursuing a Masters in AI and ML.\"\n",
        "sentence3 = \"As a dedicated student, she is gaining in-depth knowledge and practical experience in the field of AI and ML.\"\n",
        "\n",
        "sentences = [sentence1, sentence2,sentence3]\n",
        "\n",
        "for sentence in sentences:\n",
        "    tags = nltk.pos_tag(nltk.word_tokenize(sentence))\n",
        "    chunks = ne_chunk(tags)\n",
        "    print(chunks)\n"
      ],
      "metadata": {
        "colab": {
          "base_uri": "https://localhost:8080/"
        },
        "id": "CsjSDJdhH_H7",
        "outputId": "b55d57d7-ab0d-4713-b7b9-7a7dcc0227d6"
      },
      "execution_count": null,
      "outputs": [
        {
          "output_type": "stream",
          "name": "stdout",
          "text": [
            "(S\n",
            "  (GPE Sowmya/NNP)\n",
            "  is/VBZ\n",
            "  studying/VBG\n",
            "  in/IN\n",
            "  (ORGANIZATION Christ/NNP University/NNP)\n",
            "  ./.)\n",
            "(S\n",
            "  She/PRP\n",
            "  is/VBZ\n",
            "  pursuing/VBG\n",
            "  a/DT\n",
            "  Masters/NNPS\n",
            "  in/IN\n",
            "  AI/NNP\n",
            "  and/CC\n",
            "  (ORGANIZATION ML/NNP)\n",
            "  ./.)\n",
            "(S\n",
            "  As/IN\n",
            "  a/DT\n",
            "  dedicated/JJ\n",
            "  student/NN\n",
            "  ,/,\n",
            "  she/PRP\n",
            "  is/VBZ\n",
            "  gaining/VBG\n",
            "  in-depth/JJ\n",
            "  knowledge/NN\n",
            "  and/CC\n",
            "  practical/JJ\n",
            "  experience/NN\n",
            "  in/IN\n",
            "  the/DT\n",
            "  field/NN\n",
            "  of/IN\n",
            "  (ORGANIZATION AI/NNP)\n",
            "  and/CC\n",
            "  (ORGANIZATION ML/NNP)\n",
            "  ./.)\n"
          ]
        },
        {
          "output_type": "stream",
          "name": "stderr",
          "text": [
            "[nltk_data] Downloading package maxent_ne_chunker to\n",
            "[nltk_data]     /root/nltk_data...\n",
            "[nltk_data]   Package maxent_ne_chunker is already up-to-date!\n",
            "[nltk_data] Downloading package words to /root/nltk_data...\n",
            "[nltk_data]   Package words is already up-to-date!\n"
          ]
        }
      ]
    },
    {
      "cell_type": "markdown",
      "source": [
        "7. Implement the Dependency Parsing and Constituency Parsing using the tool."
      ],
      "metadata": {
        "id": "ZQvYJ2FSNhj2"
      }
    },
    {
      "cell_type": "code",
      "source": [
        "import spacy\n",
        "from nltk import Tree\n",
        "\n",
        "# Load English NER pipeline\n",
        "nlp = spacy.load(\"en_core_web_sm\")\n",
        "\n",
        "# Sowmya's corpus\n",
        "corpus = \"Sowmya is currently pursuing a Master's in Artificial Intelligence and Machine Learning at University. As a dedicated student, she is gaining in-depth knowledge and practical experience in the field of AI and ML. Sowmya's commitment to furthering her education in this cutting-edge field reflects her passion for technology and innovation.\"\n",
        "\n",
        "# Apply the NLP pipeline\n",
        "doc = nlp(corpus)\n",
        "\n",
        "# Dependency Parsing\n",
        "print(\"Dependency Parsing:\")\n",
        "for token in doc:\n",
        "    print(f\"{token.text} --{token.dep_}--> {token.head.text}\")\n",
        "\n",
        "# Constituency Parsing\n",
        "def to_nltk_tree(node):\n",
        "    if node.n_lefts + node.n_rights > 0:\n",
        "        return Tree(node.orth_, [to_nltk_tree(child) for child in node.children])\n",
        "    else:\n",
        "        return node.orth_\n",
        "\n",
        "print(\"\\nConstituency Parsing:\")\n",
        "for sent in doc.sents:\n",
        "    tree = to_nltk_tree(sent.root)\n",
        "    tree.pretty_print()\n"
      ],
      "metadata": {
        "colab": {
          "base_uri": "https://localhost:8080/"
        },
        "id": "ic8uNd5bKzFW",
        "outputId": "1f165b62-829e-403e-d966-776de985656c"
      },
      "execution_count": null,
      "outputs": [
        {
          "output_type": "stream",
          "name": "stdout",
          "text": [
            "Dependency Parsing:\n",
            "Sowmya --nsubj--> pursuing\n",
            "is --aux--> pursuing\n",
            "currently --advmod--> pursuing\n",
            "pursuing --ROOT--> pursuing\n",
            "a --det--> Master\n",
            "Master --dobj--> pursuing\n",
            "'s --case--> Master\n",
            "in --prep--> Master\n",
            "Artificial --compound--> Intelligence\n",
            "Intelligence --pobj--> in\n",
            "and --cc--> Intelligence\n",
            "Machine --compound--> Learning\n",
            "Learning --conj--> Intelligence\n",
            "at --prep--> pursuing\n",
            "University --pobj--> at\n",
            ". --punct--> pursuing\n",
            "As --prep--> gaining\n",
            "a --det--> student\n",
            "dedicated --amod--> student\n",
            "student --pobj--> As\n",
            ", --punct--> gaining\n",
            "she --nsubj--> gaining\n",
            "is --aux--> gaining\n",
            "gaining --ROOT--> gaining\n",
            "in --nmod--> knowledge\n",
            "- --punct--> in\n",
            "depth --pobj--> in\n",
            "knowledge --dobj--> gaining\n",
            "and --cc--> knowledge\n",
            "practical --amod--> experience\n",
            "experience --conj--> knowledge\n",
            "in --prep--> knowledge\n",
            "the --det--> field\n",
            "field --pobj--> in\n",
            "of --prep--> field\n",
            "AI --pobj--> of\n",
            "and --cc--> AI\n",
            "ML --conj--> AI\n",
            ". --punct--> gaining\n",
            "Sowmya --poss--> commitment\n",
            "'s --case--> Sowmya\n",
            "commitment --nsubj--> reflects\n",
            "to --prep--> commitment\n",
            "furthering --pcomp--> to\n",
            "her --poss--> education\n",
            "education --dobj--> furthering\n",
            "in --prep--> furthering\n",
            "this --det--> field\n",
            "cutting --compound--> edge\n",
            "- --punct--> edge\n",
            "edge --compound--> field\n",
            "field --pobj--> in\n",
            "reflects --ROOT--> reflects\n",
            "her --poss--> passion\n",
            "passion --dobj--> reflects\n",
            "for --prep--> passion\n",
            "technology --pobj--> for\n",
            "and --cc--> technology\n",
            "innovation --conj--> technology\n",
            ". --punct--> reflects\n",
            "\n",
            "Constituency Parsing:\n",
            "                         pursuing                                                \n",
            "   _________________________|______________________________________________       \n",
            "  |     |      |      |                 Master                             |     \n",
            "  |     |      |      |      _____________|___________                     |      \n",
            "  |     |      |      |     |      |                  in                   |     \n",
            "  |     |      |      |     |      |                  |                    |      \n",
            "  |     |      |      |     |      |             Intelligence              |     \n",
            "  |     |      |      |     |      |       ___________|__________          |      \n",
            "  |     |      |      |     |      |      |           |       Learning     at    \n",
            "  |     |      |      |     |      |      |           |          |         |      \n",
            "Sowmya  is currently  .     a      's Artificial     and      Machine  University\n",
            "\n",
            "                                      gaining                                           \n",
            "  _______________________________________|______________________                         \n",
            " |   |   |   |         |                                    knowledge                   \n",
            " |   |   |   |         |                  ______________________|____________            \n",
            " |   |   |   |         |                 |         |            |            in         \n",
            " |   |   |   |         |                 |         |            |            |           \n",
            " |   |   |   |         |                 |         |            |          field        \n",
            " |   |   |   |         |                 |         |            |        ____|____       \n",
            " |   |   |   |         As                |         |            |       |         of    \n",
            " |   |   |   |         |                 |         |            |       |         |      \n",
            " |   |   |   |      student              |         in       experience  |         AI    \n",
            " |   |   |   |    _____|________         |      ___|____        |       |     ____|___   \n",
            " ,  she  is  .   a          dedicated   and    -      depth practical  the  and       ML\n",
            "\n",
            "                                           reflects                                           \n",
            "  ____________________________________________|_____________________                           \n",
            " |                   commitment                                     |                         \n",
            " |     __________________|__________                                |                          \n",
            " |    |                             to                              |                         \n",
            " |    |                             |                               |                          \n",
            " |    |                         furthering                          |                         \n",
            " |    |         ____________________|_________                      |                          \n",
            " |    |        |                              in                 passion                      \n",
            " |    |        |                              |                _____|________                  \n",
            " |    |        |                            field             |             for               \n",
            " |    |        |          ____________________|______         |              |                 \n",
            " |  Sowmya education     |                          edge      |          technology           \n",
            " |    |        |         |                     ______|____    |      ________|__________       \n",
            " .    's      her       this               cutting        -  her   and              innovation\n",
            "\n"
          ]
        }
      ]
    }
  ]
}