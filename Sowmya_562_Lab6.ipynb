{
  "cells": [
    {
      "cell_type": "markdown",
      "metadata": {
        "id": "view-in-github",
        "colab_type": "text"
      },
      "source": [
        "<a href=\"https://colab.research.google.com/github/Sowmya-2348562/NLP/blob/main/Sowmya_562_Lab6.ipynb\" target=\"_parent\"><img src=\"https://colab.research.google.com/assets/colab-badge.svg\" alt=\"Open In Colab\"/></a>"
      ]
    },
    {
      "cell_type": "markdown",
      "source": [
        "# 1.CHATBOT CREATION"
      ],
      "metadata": {
        "id": "rREzVKa8efZ1"
      }
    },
    {
      "cell_type": "code",
      "source": [
        "import nltk\n",
        "from nltk.chat.util import Chat, reflections\n",
        "from nltk.sentiment import SentimentIntensityAnalyzer\n",
        "import random\n",
        "nltk.download('vader_lexicon')\n",
        "\n",
        "# Define pairs of patterns and responses\n",
        "pairs = [\n",
        "    [\n",
        "        r\"my name is (.*)\",\n",
        "        [\"Hello %1, how can I help you today?\",]\n",
        "    ],\n",
        "    [\n",
        "        r\"what is your name?\",\n",
        "        [\"My name is ChatBot and I'm here to assist you.\",]\n",
        "    ],\n",
        "    [\n",
        "        r\"how are you ?\",\n",
        "        [\"I'm doing well, thank you!\", \"I'm fine, thank you!\",]\n",
        "    ],\n",
        "    [\n",
        "        r\"sorry (.*)\",\n",
        "        [\"Apologies for any inconvenience.\", \"No problem, I understand.\",]\n",
        "    ],\n",
        "    [\n",
        "        r\"quit\",\n",
        "        [\"Bye! Take care.\", \"Goodbye, have a great day!\"]\n",
        "    ],\n",
        "]\n",
        "\n",
        "# Create a Chat instance\n",
        "chatbot = Chat(pairs, reflections)\n",
        "\n",
        "# Function to perform sentiment analysis\n",
        "def analyze_sentiment(user_input):\n",
        "    sia = SentimentIntensityAnalyzer()\n",
        "    sentiment_score = sia.polarity_scores(user_input)['compound']\n",
        "    if sentiment_score >= 0.05:\n",
        "        return \"It sounds like you're feeling positive.\"\n",
        "    elif sentiment_score <= -0.05:\n",
        "        return \"It seems like you're expressing a negative sentiment.\"\n",
        "    else:\n",
        "        return \"Your sentiment is neutral.\"\n",
        "\n",
        "# Extend pairs with more patterns and responses\n",
        "pairs.extend([\n",
        "    [\n",
        "        r\"how can you help me(.*)\",\n",
        "        [\"I can help you with various tasks such as providing information, answering questions, or even offering suggestions. Feel free to ask me anything!\",]\n",
        "    ],\n",
        "    [\n",
        "        r\"what are your hobbies ?\",\n",
        "        [\"I don't have hobbies in the traditional sense, but I enjoy assisting users like you!\",]\n",
        "    ],\n",
        "    [\n",
        "        r\"tell me a joke\",\n",
        "        [\"Why don't scientists trust atoms? Because they make up everything!\", \"I'm not great at jokes, but here's one: Two antennas met on a roof, fell in love, and got married. The ceremony wasn't much, but the reception was excellent!\",]\n",
        "    ],\n",
        "])\n",
        "\n",
        "# Function to start and maintain the conversation\n",
        "def chatbot_conversation():\n",
        "    print(\"Hello! I'm ChatBot. How can I assist you today?\")\n",
        "    while True:\n",
        "        user_input = input(\"You: \")\n",
        "\n",
        "        # Perform sentiment analysis\n",
        "        sentiment_response = analyze_sentiment(user_input)\n",
        "        print(\"ChatBot:\", sentiment_response)\n",
        "\n",
        "        # Generate a response using the chatbot, based on user input\n",
        "        chatbot_response = chatbot.respond(user_input)\n",
        "        print(\"ChatBot:\", chatbot_response)\n",
        "\n",
        "        # Check for the \"quit\" command to end the conversation\n",
        "        if user_input.lower() == \"quit\":\n",
        "            break\n",
        "\n",
        "# Start the conversation\n",
        "if __name__ == \"__main__\":\n",
        "    chatbot_conversation()\n"
      ],
      "metadata": {
        "colab": {
          "base_uri": "https://localhost:8080/"
        },
        "id": "14xTAKbddT2i",
        "outputId": "870b9f78-ee74-4a74-e592-046ea8dfd052"
      },
      "execution_count": null,
      "outputs": [
        {
          "output_type": "stream",
          "name": "stderr",
          "text": [
            "[nltk_data] Downloading package vader_lexicon to /root/nltk_data...\n",
            "[nltk_data]   Package vader_lexicon is already up-to-date!\n"
          ]
        },
        {
          "output_type": "stream",
          "name": "stdout",
          "text": [
            "Hello! I'm ChatBot. How can I assist you today?\n",
            "You: Hello!\n",
            "ChatBot: Your sentiment is neutral.\n",
            "ChatBot: None\n",
            "You: my name is sowmya\n",
            "ChatBot: Your sentiment is neutral.\n",
            "ChatBot: Hello sowmya, how can I help you today?\n",
            "You: what is your name?\n",
            "ChatBot: Your sentiment is neutral.\n",
            "ChatBot: My name is ChatBot and I'm here to assist you.\n",
            "You: how are you?\n",
            "ChatBot: Your sentiment is neutral.\n",
            "ChatBot: I'm doing well, thank you!\n",
            "You: i am feeling very happy today\n",
            "ChatBot: It sounds like you're feeling positive.\n",
            "ChatBot: None\n",
            "You: today was a good day!\n",
            "ChatBot: It sounds like you're feeling positive.\n",
            "ChatBot: None\n",
            "You: how can you help me\n",
            "ChatBot: It sounds like you're feeling positive.\n",
            "ChatBot: None\n",
            "You: tell me a joke\n",
            "ChatBot: It sounds like you're feeling positive.\n",
            "ChatBot: None\n",
            "You: what are your hobbies?\n",
            "ChatBot: Your sentiment is neutral.\n",
            "ChatBot: None\n",
            "You: quit\n",
            "ChatBot: Your sentiment is neutral.\n",
            "ChatBot: Bye! Take care.\n"
          ]
        }
      ]
    }
  ],
  "metadata": {
    "colab": {
      "provenance": [],
      "include_colab_link": true
    },
    "kernelspec": {
      "display_name": "Python 3",
      "language": "python",
      "name": "python3"
    },
    "language_info": {
      "codemirror_mode": {
        "name": "ipython",
        "version": 3
      },
      "file_extension": ".py",
      "mimetype": "text/x-python",
      "name": "python",
      "nbconvert_exporter": "python",
      "pygments_lexer": "ipython3",
      "version": "3.6.0"
    }
  },
  "nbformat": 4,
  "nbformat_minor": 0
}