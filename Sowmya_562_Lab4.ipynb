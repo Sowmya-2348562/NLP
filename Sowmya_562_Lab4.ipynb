{
  "nbformat": 4,
  "nbformat_minor": 0,
  "metadata": {
    "colab": {
      "provenance": [],
      "include_colab_link": true
    },
    "kernelspec": {
      "name": "python3",
      "display_name": "Python 3"
    },
    "language_info": {
      "name": "python"
    }
  },
  "cells": [
    {
      "cell_type": "markdown",
      "metadata": {
        "id": "view-in-github",
        "colab_type": "text"
      },
      "source": [
        "<a href=\"https://colab.research.google.com/github/Sowmya-2348562/NLP/blob/main/Sowmya_562_Lab4.ipynb\" target=\"_parent\"><img src=\"https://colab.research.google.com/assets/colab-badge.svg\" alt=\"Open In Colab\"/></a>"
      ]
    },
    {
      "cell_type": "code",
      "execution_count": null,
      "metadata": {
        "colab": {
          "base_uri": "https://localhost:8080/"
        },
        "id": "OYBTsVqBLj2s",
        "outputId": "23453c73-94dc-4d58-bb6d-939b20911b5b"
      },
      "outputs": [
        {
          "output_type": "stream",
          "name": "stdout",
          "text": [
            "Requirement already satisfied: nltk in /usr/local/lib/python3.10/dist-packages (3.8.1)\n",
            "Requirement already satisfied: click in /usr/local/lib/python3.10/dist-packages (from nltk) (8.1.7)\n",
            "Requirement already satisfied: joblib in /usr/local/lib/python3.10/dist-packages (from nltk) (1.3.2)\n",
            "Requirement already satisfied: regex>=2021.8.3 in /usr/local/lib/python3.10/dist-packages (from nltk) (2023.12.25)\n",
            "Requirement already satisfied: tqdm in /usr/local/lib/python3.10/dist-packages (from nltk) (4.66.2)\n"
          ]
        }
      ],
      "source": [
        "pip install nltk\n"
      ]
    },
    {
      "cell_type": "code",
      "source": [
        "import nltk\n",
        "nltk.download('wordnet')\n",
        "\n"
      ],
      "metadata": {
        "colab": {
          "base_uri": "https://localhost:8080/"
        },
        "id": "or2TXQbwVYvA",
        "outputId": "6ea4ba8d-95ea-4c2a-bd52-e135b74224ae"
      },
      "execution_count": null,
      "outputs": [
        {
          "output_type": "stream",
          "name": "stderr",
          "text": [
            "[nltk_data] Downloading package wordnet to /root/nltk_data...\n"
          ]
        },
        {
          "output_type": "execute_result",
          "data": {
            "text/plain": [
              "True"
            ]
          },
          "metadata": {},
          "execution_count": 2
        }
      ]
    },
    {
      "cell_type": "code",
      "source": [
        "# Import the necessary libraries\n",
        "import nltk\n",
        "from nltk.corpus import wordnet"
      ],
      "metadata": {
        "id": "Qb-iCyVMVdry"
      },
      "execution_count": null,
      "outputs": []
    },
    {
      "cell_type": "code",
      "source": [
        "import nltk\n",
        "nltk.download('averaged_perceptron_tagger')\n"
      ],
      "metadata": {
        "colab": {
          "base_uri": "https://localhost:8080/"
        },
        "id": "p59UPvyOYOdK",
        "outputId": "c47a8596-6dc1-47d4-c27d-9dbfd7d37211"
      },
      "execution_count": null,
      "outputs": [
        {
          "output_type": "stream",
          "name": "stderr",
          "text": [
            "[nltk_data] Downloading package averaged_perceptron_tagger to\n",
            "[nltk_data]     /root/nltk_data...\n",
            "[nltk_data]   Unzipping taggers/averaged_perceptron_tagger.zip.\n"
          ]
        },
        {
          "output_type": "execute_result",
          "data": {
            "text/plain": [
              "True"
            ]
          },
          "metadata": {},
          "execution_count": 4
        }
      ]
    },
    {
      "cell_type": "code",
      "source": [
        "import nltk\n",
        "from nltk.corpus import wordnet\n",
        "from nltk.tokenize import word_tokenize\n",
        "from nltk import pos_tag\n",
        "nltk.download('punkt')\n",
        "nltk.download('averaged_perceptron_tagger')\n",
        "\n",
        "# Define a function to get synonyms of a word from WordNet\n",
        "def get_synonyms(word):\n",
        "    synonyms = []\n",
        "    for syn in wordnet.synsets(word):\n",
        "        for lemma in syn.lemmas():\n",
        "            synonyms.append(lemma.name())\n",
        "    return list(set(synonyms))\n",
        "\n",
        "# Define a function to get the 3rd meaning of the word in the list\n",
        "def get_third_meaning(word):\n",
        "    synsets = wordnet.synsets(word)\n",
        "    if len(synsets) >= 3:\n",
        "        return synsets[2].definition()\n",
        "    else:\n",
        "        return \"Word does not have 3 meanings\"\n",
        "\n",
        "# Define a function to extract the nouns of the word from the synonyms list\n",
        "def extract_nouns(synonyms):\n",
        "    nouns = []\n",
        "    for synonym in synonyms:\n",
        "        tokens = word_tokenize(synonym)\n",
        "        tagged_tokens = pos_tag(tokens)\n",
        "        for token, pos in tagged_tokens:\n",
        "            if pos.startswith('NN'):  # NN stands for noun\n",
        "                nouns.append(token)\n",
        "    return list(set(nouns))\n",
        "\n",
        "# Define a function to extract the verbs of the word from the synonyms list\n",
        "def extract_verbs(synonyms):\n",
        "    verbs = []\n",
        "    for synonym in synonyms:\n",
        "        tokens = word_tokenize(synonym)\n",
        "        tagged_tokens = pos_tag(tokens)\n",
        "        for token, pos in tagged_tokens:\n",
        "            if pos.startswith('VB'):  # VB stands for verb\n",
        "                verbs.append(token)\n",
        "    return list(set(verbs))\n",
        "\n",
        "# Define a function to extract the adjectives of the word from the synonyms list\n",
        "def extract_adjectives(synonyms):\n",
        "    adjectives = []\n",
        "    for synonym in synonyms:\n",
        "        tokens = word_tokenize(synonym)\n",
        "        tagged_tokens = pos_tag(tokens)\n",
        "        for token, pos in tagged_tokens:\n",
        "            if pos.startswith('JJ'):  # JJ stands for adjective\n",
        "                adjectives.append(token)\n",
        "    return list(set(adjectives))\n",
        "\n",
        "# Define a function to extract the adverbs of the word from the synonyms list\n",
        "def extract_adverbs(synonyms):\n",
        "    adverbs = []\n",
        "    for synonym in synonyms:\n",
        "        tokens = word_tokenize(synonym)\n",
        "        tagged_tokens = pos_tag(tokens)\n",
        "        for token, pos in tagged_tokens:\n",
        "            if pos.startswith('RB'):  # RB stands for adverb\n",
        "                adverbs.append(token)\n",
        "    return list(set(adverbs))\n",
        "\n",
        "# Define a function to extract the definition of the word\n",
        "def get_definition(word):\n",
        "    synsets = wordnet.synsets(word)\n",
        "    if synsets:\n",
        "        return synsets[0].definition()\n",
        "    else:\n",
        "        return \"No definition found for the word\"\n",
        "\n",
        "# Define a function to find the hypernyms of the word\n",
        "def get_hypernyms(word):\n",
        "    hypernyms = []\n",
        "    for syn in wordnet.synsets(word):\n",
        "        for hypernym in syn.hypernyms():\n",
        "            hypernyms.append(hypernym.lemma_names()[0])\n",
        "    return list(set(hypernyms))\n",
        "\n",
        "# Define a function to find the hyponyms of the word\n",
        "def get_hyponyms(word):\n",
        "    hyponyms = []\n",
        "    for syn in wordnet.synsets(word):\n",
        "        for hyponym in syn.hyponyms():\n",
        "            hyponyms.append(hyponym.lemma_names()[0])\n",
        "    return list(set(hyponyms))\n",
        "\n",
        "# Define a function to find the similarities of any two hyponyms of a word\n",
        "def get_hyponym_similarity(word, hyponym1, hyponym2):\n",
        "    syn1 = wordnet.synsets(word)\n",
        "    syn2 = wordnet.synsets(hyponym1)\n",
        "    syn3 = wordnet.synsets(hyponym2)\n",
        "    if syn1 and syn2 and syn3:\n",
        "        similarity1 = syn1[0].path_similarity(syn2[0])\n",
        "        similarity2 = syn1[0].path_similarity(syn3[0])\n",
        "        return similarity1, similarity2\n",
        "    else:\n",
        "        return \"One or both hyponyms not found\"\n",
        "\n",
        "\n",
        "# Sample words\n",
        "words = [\"Serendipity\", \"Resilience\", \"Empathy\", \"Integrity\", \"Gratitude\"]\n",
        "\n",
        "# Process each word\n",
        "for word in words:\n",
        "    synonyms = get_synonyms(word)\n",
        "    print(\"\\nWord:\", word)\n",
        "    print(\"Synonyms:\", synonyms)\n",
        "    print(\"a) 3rd Meaning:\", get_third_meaning(word))\n",
        "    print(\"b) Nouns:\", extract_nouns(synonyms))\n",
        "    print(\"c) Verbs:\", extract_verbs(synonyms))\n",
        "    print(\"d) Adjectives:\", extract_adjectives(synonyms))\n",
        "    print(\"e) Adverbs:\", extract_adverbs(synonyms))\n",
        "    print(\"f) Definition:\", get_definition(word))\n",
        "    print(\"g) Hypernyms:\", get_hypernyms(word))\n",
        "    print(\"h) Hyponyms:\", get_hyponyms(word))\n",
        "    print(\"i) Similarity of Hyponyms:\", get_hyponym_similarity(word, \"hyponym1\", \"hyponym2\"))\n"
      ],
      "metadata": {
        "colab": {
          "base_uri": "https://localhost:8080/"
        },
        "id": "qhJFSuLFVwLt",
        "outputId": "406b4765-d6ca-4ae6-972f-163091ee4d23"
      },
      "execution_count": null,
      "outputs": [
        {
          "output_type": "stream",
          "name": "stderr",
          "text": [
            "[nltk_data] Downloading package punkt to /root/nltk_data...\n",
            "[nltk_data]   Unzipping tokenizers/punkt.zip.\n",
            "[nltk_data] Downloading package averaged_perceptron_tagger to\n",
            "[nltk_data]     /root/nltk_data...\n",
            "[nltk_data]   Package averaged_perceptron_tagger is already up-to-\n",
            "[nltk_data]       date!\n"
          ]
        },
        {
          "output_type": "stream",
          "name": "stdout",
          "text": [
            "\n",
            "Word: Serendipity\n",
            "Synonyms: ['serendipity']\n",
            "a) 3rd Meaning: Word does not have 3 meanings\n",
            "b) Nouns: ['serendipity']\n",
            "c) Verbs: []\n",
            "d) Adjectives: []\n",
            "e) Adverbs: []\n",
            "f) Definition: good luck in making unexpected and fortunate discoveries\n",
            "g) Hypernyms: ['good_luck']\n",
            "h) Hyponyms: []\n",
            "i) Similarity of Hyponyms: One or both hyponyms not found\n",
            "\n",
            "Word: Resilience\n",
            "Synonyms: ['resiliency', 'resilience']\n",
            "a) 3rd Meaning: Word does not have 3 meanings\n",
            "b) Nouns: ['resiliency', 'resilience']\n",
            "c) Verbs: []\n",
            "d) Adjectives: []\n",
            "e) Adverbs: []\n",
            "f) Definition: the physical property of a material that can return to its original shape or position after deformation that does not exceed its elastic limit\n",
            "g) Hypernyms: ['elasticity', 'recoil']\n",
            "h) Hyponyms: []\n",
            "i) Similarity of Hyponyms: One or both hyponyms not found\n",
            "\n",
            "Word: Empathy\n",
            "Synonyms: ['empathy']\n",
            "a) 3rd Meaning: Word does not have 3 meanings\n",
            "b) Nouns: ['empathy']\n",
            "c) Verbs: []\n",
            "d) Adjectives: []\n",
            "e) Adverbs: []\n",
            "f) Definition: understanding and entering into another's feelings\n",
            "g) Hypernyms: ['sympathy']\n",
            "h) Hyponyms: []\n",
            "i) Similarity of Hyponyms: One or both hyponyms not found\n",
            "\n",
            "Word: Integrity\n",
            "Synonyms: ['unity', 'integrity', 'wholeness']\n",
            "a) 3rd Meaning: Word does not have 3 meanings\n",
            "b) Nouns: ['unity', 'integrity', 'wholeness']\n",
            "c) Verbs: []\n",
            "d) Adjectives: []\n",
            "e) Adverbs: []\n",
            "f) Definition: an undivided or unbroken completeness or totality with nothing wanting\n",
            "g) Hypernyms: ['honesty', 'state']\n",
            "h) Hyponyms: ['probity', 'completeness', 'incompleteness']\n",
            "i) Similarity of Hyponyms: One or both hyponyms not found\n",
            "\n",
            "Word: Gratitude\n",
            "Synonyms: ['gratitude']\n",
            "a) 3rd Meaning: Word does not have 3 meanings\n",
            "b) Nouns: ['gratitude']\n",
            "c) Verbs: []\n",
            "d) Adjectives: []\n",
            "e) Adverbs: []\n",
            "f) Definition: a feeling of thankfulness and appreciation\n",
            "g) Hypernyms: ['feeling']\n",
            "h) Hyponyms: ['gratefulness']\n",
            "i) Similarity of Hyponyms: One or both hyponyms not found\n"
          ]
        }
      ]
    }
  ]
}