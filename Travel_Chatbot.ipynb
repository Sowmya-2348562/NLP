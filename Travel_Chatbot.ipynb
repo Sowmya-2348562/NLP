{
  "nbformat": 4,
  "nbformat_minor": 0,
  "metadata": {
    "colab": {
      "provenance": [],
      "authorship_tag": "ABX9TyPM0+Ih1JpTZHQGBgVgKwi2",
      "include_colab_link": true
    },
    "kernelspec": {
      "name": "python3",
      "display_name": "Python 3"
    },
    "language_info": {
      "name": "python"
    }
  },
  "cells": [
    {
      "cell_type": "markdown",
      "metadata": {
        "id": "view-in-github",
        "colab_type": "text"
      },
      "source": [
        "<a href=\"https://colab.research.google.com/github/Sowmya-2348562/NLP/blob/main/Travel_Chatbot.ipynb\" target=\"_parent\"><img src=\"https://colab.research.google.com/assets/colab-badge.svg\" alt=\"Open In Colab\"/></a>"
      ]
    },
    {
      "cell_type": "code",
      "execution_count": null,
      "metadata": {
        "id": "w78-HRlOO4f1"
      },
      "outputs": [],
      "source": [
        "import os\n"
      ]
    },
    {
      "cell_type": "code",
      "source": [
        "import os\n",
        "\n",
        "# Ensure the docs folder exists\n",
        "os.makedirs(\"docs\", exist_ok=True)\n",
        "\n",
        "# Destination data\n",
        "data = {\n",
        "    \"Paris.txt\": \"\"\"Eiffel Tower: A global cultural icon of France, offering breathtaking views of Paris.\n",
        "Louvre Museum: The world’s largest art museum and home to the Mona Lisa.\n",
        "Notre-Dame Cathedral: A masterpiece of French Gothic architecture.\n",
        "Sacré-Cœur Basilica: A stunning basilica located on the highest point in Paris.\n",
        "Champs-Élysées: A famous avenue for luxury shopping and fine dining.\n",
        "Montmartre: A historic district known for art, cafes, and cobblestone streets.\n",
        "Palace of Versailles: A royal château with magnificent gardens and opulent halls.\n",
        "Seine River Cruise: A relaxing way to see iconic landmarks from the water.\n",
        "Luxembourg Gardens: A peaceful park with beautiful fountains and statues.\n",
        "Arc de Triomphe: A triumphal arch honoring French soldiers, offering panoramic city views.\"\"\",\n",
        "    \"Tokyo.txt\": \"\"\"Meiji Shrine: A serene Shinto shrine surrounded by a beautiful forest.\n",
        "Tokyo Tower: A communications tower offering stunning views of the city.\n",
        "Senso-ji Temple: Tokyo’s oldest and most famous Buddhist temple.\n",
        "Shibuya Crossing: One of the busiest pedestrian crossings in the world.\n",
        "Akihabara: A hub for electronics, anime, and gaming enthusiasts.\n",
        "Tsukiji Outer Market: A popular spot for fresh seafood and sushi.\n",
        "Odaiba: A man-made island featuring shopping malls and entertainment.\n",
        "Ueno Park: A large park with museums, a zoo, and cherry blossoms in spring.\n",
        "Asakusa: A historic district known for the Nakamise shopping street.\n",
        "Ginza: A luxury shopping district with high-end stores and fine dining.\n",
        "\"\"\",\n",
        "     \"New_York_City.txt\": \"\"\"Statue of Liberty: A symbol of freedom and democracy, located on Liberty Island.\n",
        "Central Park: A massive park offering walking trails, boating, and picnics.\n",
        "Times Square: A vibrant hub of entertainment, billboards, and Broadway theaters.\n",
        "Empire State Building: An iconic skyscraper with stunning city views.\n",
        "Brooklyn Bridge: A historic suspension bridge connecting Manhattan and Brooklyn.\n",
        "The Metropolitan Museum of Art: One of the world’s largest art museums.\n",
        "9/11 Memorial & Museum: A tribute to the victims of the September 11 attacks.\n",
        "Broadway: The pinnacle of live theater and musical performances.\n",
        "Fifth Avenue: A premier shopping street with luxury boutiques and stores.\n",
        "Rockefeller Center: A complex famous for its ice-skating rink and observation deck.\n",
        "\n",
        "\"\"\",\"Dubai.txt\": \"\"\"Burj Khalifa: The world’s tallest building with a stunning observation deck.\n",
        "Dubai Mall: A massive shopping mall with entertainment options and an aquarium.\n",
        "Palm Jumeirah: A man-made island known for luxury resorts and beaches.\n",
        "Dubai Marina: A vibrant waterfront with restaurants, cafes, and yachts.\n",
        "Burj Al Arab: A luxurious hotel designed to resemble a ship’s sail.\n",
        "Dubai Fountain: A captivating water and light show near the Burj Khalifa.\n",
        "The Desert Safari: A thrilling adventure in the Arabian Desert.\n",
        "Gold Souk: A traditional market famous for gold jewelry.\n",
        "Dubai Miracle Garden: A floral paradise with stunning displays of flowers.\n",
        "Global Village: A cultural and shopping destination showcasing global attractions.\n",
        "\n",
        "\n",
        "\"\"\",\n",
        "    \"Sydney.txt\": \"\"\"Sydney Opera House: A world-renowned architectural marvel and cultural venue.\n",
        "Sydney Harbour Bridge: An iconic bridge offering climbing tours and great views.\n",
        "Bondi Beach: A popular beach for surfing, sunbathing, and coastal walks.\n",
        "Taronga Zoo: A wildlife park with incredible views of Sydney Harbour.\n",
        "Royal Botanic Garden: A peaceful oasis with exotic plants and stunning landscapes.\n",
        "Darling Harbour: A vibrant area with shops, restaurants, and attractions.\n",
        "The Rocks: A historic district with cobblestone streets and colonial buildings.\n",
        "Manly Beach: A family-friendly beach accessible via a scenic ferry ride.\n",
        "Blue Mountains: A stunning natural area with hiking trails and scenic vistas.\n",
        "SEA LIFE Sydney Aquarium: A top attraction for marine life enthusiasts.\n",
        "\n",
        "\n",
        "\"\"\",\n",
        "    \"Delhi.txt\": \"\"\"Red Fort: A historic Mughal fort and UNESCO World Heritage Site.\n",
        "India Gate: A war memorial dedicated to Indian soldiers.\n",
        "Qutub Minar: A towering minaret and an iconic example of Indo-Islamic architecture.\n",
        "Humayun’s Tomb: A UNESCO-listed Mughal tomb surrounded by beautiful gardens.\n",
        "Lotus Temple: A Baháʼí House of Worship known for its lotus-like structure.\n",
        "Akshardham Temple: A sprawling temple complex showcasing Indian culture and spirituality.\n",
        "Chandni Chowk: A bustling market famous for its street food and shopping.\n",
        "Jama Masjid: One of the largest mosques in India, built by Shah Jahan.\n",
        "Rashtrapati Bhavan: The official residence of the President of India.\n",
        "National Museum: A treasure trove of India’s history and cultural heritage.\n",
        "\n",
        "\"\"\",\n",
        "    \"Jaipur.txt\": \"\"\"Hawa Mahal: The Palace of Winds, known for its unique façade with 953 windows.\n",
        "Amber Fort: A majestic hilltop fort showcasing Rajput architecture.\n",
        "City Palace: A blend of Mughal and Rajput architecture in the heart of Jaipur.\n",
        "Jantar Mantar: A UNESCO World Heritage Site featuring ancient astronomical instruments.\n",
        "Nahargarh Fort: A fort offering panoramic views of Jaipur city.\n",
        "Jal Mahal: A picturesque palace situated in the middle of Man Sagar Lake.\n",
        "Albert Hall Museum: A museum showcasing Indo-Saracenic architecture and artifacts.\n",
        "Birla Mandir: A beautiful white marble temple dedicated to Lord Vishnu and Goddess Lakshmi.\n",
        "Jaipur Markets: Johari Bazaar and Bapu Bazaar are famous for jewelry and textiles.\n",
        "Sisodia Rani Garden: A landscaped garden with fountains and murals.\n",
        "\n",
        "\n",
        "\"\"\",\n",
        "    \"Agra.txt\": \"\"\"Taj Mahal: A UNESCO World Heritage Site and symbol of eternal love.\n",
        "Agra Fort: A grand Mughal fort and another UNESCO World Heritage Site.\n",
        "Fatehpur Sikri: A historic city built by Emperor Akbar, showcasing Mughal architecture.\n",
        "Itmad-ud-Daulah's Tomb: Known as the Baby Taj, a precursor to the Taj Mahal.\n",
        "Mehtab Bagh: A serene garden offering a great view of the Taj Mahal.\n",
        "Akbar's Tomb: The mausoleum of Emperor Akbar, showcasing intricate carvings.\n",
        "Jama Masjid: A historic mosque known for its Mughal-style architecture.\n",
        "Chini ka Rauza: A tomb known for its unique Persian-style glazed tiles.\n",
        "Kinari Bazaar: A bustling market for handicrafts and souvenirs.\n",
        "Wildlife SOS: A conservation center for rescued elephants and bears.\n",
        "\n",
        "\n",
        "\"\"\",\n",
        "    \"Mumbai.txt\": \"\"\"\n",
        "Gateway of India: A historic monument overlooking the Arabian Sea.\n",
        "Marine Drive: A scenic promenade known as the Queen’s Necklace.\n",
        "Elephanta Caves: UNESCO-listed rock-cut caves with ancient sculptures.\n",
        "Chhatrapati Shivaji Terminus: A UNESCO World Heritage Site and historic railway station.\n",
        "Juhu Beach: A popular spot for relaxing and trying Mumbai street food.\n",
        "Siddhivinayak Temple: A revered temple dedicated to Lord Ganesha.\n",
        "Haji Ali Dargah: A mosque and tomb located on an islet in the Arabian Sea.\n",
        "Colaba Causeway: A vibrant market for shopping and dining.\n",
        "Kanheri Caves: Ancient Buddhist caves located in Sanjay Gandhi National Park.\n",
        "Film City: The hub of Bollywood, offering studio tours and insights into Indian cinema.\n",
        "\n",
        "\n",
        "\"\"\",\"Varanasi.txt\": \"\"\"Kashi Vishwanath Temple: A revered temple dedicated to Lord Shiva.\n",
        "Dashashwamedh Ghat: The main ghat, known for its grand Ganga Aarti ceremony.\n",
        "Manikarnika Ghat: A sacred ghat used for cremation rituals.\n",
        "Banaras Hindu University: A prestigious university with a beautiful campus.\n",
        "Sarnath: A Buddhist pilgrimage site where Lord Buddha gave his first sermon.\n",
        "Assi Ghat: A tranquil ghat popular among pilgrims and tourists.\n",
        "Ramnagar Fort: A historic fort and museum located across the Ganges.\n",
        "Tulsi Manas Mandir: A temple dedicated to Lord Rama and built at the site where Tulsidas wrote the Ramcharitmanas.\n",
        "Alamgir Mosque: A mosque built by Aurangzeb, offering panoramic views of the Ganges.\n",
        "Ganga Aarti: A mesmerizing evening ritual performed on the banks of the Ganges.\n",
        "\n",
        "\n",
        "\"\"\",\n",
        "    \"Bengaluru.txt\": \"\"\"Lalbagh Botanical Garden: A sprawling garden with rare plant species and a famous glasshouse.\n",
        "Bangalore Palace: A Tudor-style palace reflecting grandeur and royal heritage.\n",
        "Cubbon Park: A green oasis in the heart of the city, ideal for relaxation.\n",
        "Bannerghatta National Park: A wildlife sanctuary with safaris and a zoo.\n",
        "ISKCON Temple: A spiritual center with stunning architecture dedicated to Lord Krishna.\n",
        "Vidhana Soudha: An iconic government building showcasing Neo-Dravidian architecture.\n",
        "Nandi Hills: A scenic hill station near Bengaluru, perfect for trekking and sunrise views.\n",
        "Wonderla Amusement Park: A popular theme park with thrilling rides and water slides.\n",
        "UB City: A luxury mall offering high-end shopping and fine dining.\n",
        "Commercial Street: A vibrant shopping destination for clothes, accessories, and street food.\n",
        "\n",
        "\n",
        "\"\"\",\n",
        "    \"Mysuru.txt\": \"\"\"Mysore Palace: A magnificent palace known for its stunning architecture and royal heritage.\n",
        "Brindavan Gardens: Beautiful gardens with musical fountains located near Krishna Raja Sagar Dam.\n",
        "Chamundi Hill: A sacred hill with a temple dedicated to Goddess Chamundeshwari.\n",
        "St. Philomena’s Church: A neo-Gothic church known for its stunning design and stained glass windows.\n",
        "Mysuru Zoo: One of the oldest zoos in India, home to a variety of exotic animals.\n",
        "Ranganathittu Bird Sanctuary: A haven for migratory birds and nature lovers.\n",
        "Karanji Lake: A serene lake ideal for boating and picnics.\n",
        "Railway Museum: A museum showcasing the history of railways in India.\n",
        "Jaganmohan Palace: An art gallery housing paintings, artifacts, and musical instruments.\n",
        "Devaraja Market: A bustling market famous for fresh produce, flowers, and Mysore silk.\n",
        "\n",
        "\n",
        "\"\"\",\n",
        "        \"Hampi.txt\": \"\"\"Virupaksha Temple: A UNESCO World Heritage Site dedicated to Lord Shiva.\n",
        "Vijaya Vittala Temple: Known for its iconic stone chariot and musical pillars.\n",
        "Matanga Hill: A popular spot for sunrise and panoramic views of Hampi.\n",
        "Hampi Bazaar: A historic marketplace near the Virupaksha Temple.\n",
        "Lotus Mahal: A beautiful palace with Indo-Islamic architecture.\n",
        "Elephant Stables: A series of domed chambers used to house royal elephants.\n",
        "Queen’s Bath: An ancient royal bathing chamber with ornate architecture.\n",
        "Achyutaraya Temple: A grand temple showcasing intricate carvings and designs.\n",
        "Tungabhadra River: Ideal for coracle rides and exploring Hampi's surroundings.\n",
        "Daroji Bear Sanctuary: A wildlife reserve home to sloth bears and other species.\n",
        "\n",
        "\n",
        "\n",
        "\"\"\",\n",
        "        \"Coorg.txt\": \"\"\"Abbey Falls: A picturesque waterfall surrounded by lush greenery.\n",
        "Raja’s Seat: A scenic viewpoint offering stunning views of the valleys.\n",
        "Golden Temple (Namdroling Monastery): A Tibetan Buddhist monastery known for its serene environment.\n",
        "Dubare Elephant Camp: A wildlife camp where visitors can interact with elephants.\n",
        "Talakaveri: The origin of the River Kaveri, located amidst the Brahmagiri Hills.\n",
        "Iruppu Falls: A stunning waterfall and a popular trekking spot.\n",
        "Nagarhole National Park: A wildlife sanctuary known for its rich biodiversity.\n",
        "Coffee Plantations: Explore Coorg’s renowned coffee estates and learn about coffee making.\n",
        "Omkareshwara Temple: A unique temple blending Gothic and Islamic architecture.\n",
        "Madikeri Fort: A historic fort offering insights into Coorg’s history.\n",
        "\n",
        "\n",
        "\n",
        "\"\"\",\n",
        "        \"Chikmagalur.txt\": \"\"\"Mullayanagiri: The highest peak in Karnataka, perfect for trekking and scenic views.\n",
        "Baba Budangiri: A mountain range known for its caves and trekking trails.\n",
        "Hebbe Falls: A stunning waterfall surrounded by lush greenery.\n",
        "Kudremukh National Park: A wildlife sanctuary with rich flora and fauna.\n",
        "Coffee Plantations: Chikmagalur is famous for its aromatic coffee estates.\n",
        "Bhadra Wildlife Sanctuary: A reserve known for tigers, elephants, and bird species.\n",
        "Hirekolale Lake: A peaceful lake offering breathtaking views of the hills.\n",
        "Kalhatti Falls: A waterfall near a temple, offering a serene experience.\n",
        "Z Point: A trekking spot with panoramic views of the Western Ghats.\n",
        "Belavadi: A historic village with temples showcasing Hoysala architecture.\n",
        "\n",
        "\n",
        "\n",
        "\"\"\",\n",
        "        \"Alleppey.txt\": \"\"\"Backwaters: A network of serene canals, lakes, and lagoons best explored via houseboats.\n",
        "Alleppey Beach: A tranquil beach with golden sands and a historic pier.\n",
        "Vembanad Lake: The largest lake in Kerala, ideal for boating and birdwatching.\n",
        "Krishnapuram Palace: A historic palace featuring murals and a museum.\n",
        "Marari Beach: A quiet, pristine beach perfect for relaxation.\n",
        "Pathiramanal Island: A small island accessible by boat, rich in biodiversity.\n",
        "Kuttanad: Known as the “Rice Bowl of Kerala,” featuring scenic paddy fields.\n",
        "Ambalapuzha Temple: A historic temple famous for its traditional offerings of sweet rice pudding.\n",
        "Punnapra Beach: A lesser-known beach offering solitude and stunning views.\n",
        "Arthunkal Church: A famous pilgrimage site dedicated to St. Sebastian.\n",
        "\n",
        "\n",
        "\n",
        "\"\"\",\n",
        "        \"Munnar.txt\": \"\"\"Tea Plantations: Endless stretches of tea gardens offering scenic views and plantation tours.\n",
        "Eravikulam National Park: Home to the endangered Nilgiri Tahr and the Anamudi Peak.\n",
        "Mattupetty Dam: A picturesque dam and lake ideal for boating and picnics.\n",
        "Top Station: A viewpoint offering panoramic views of the Western Ghats.\n",
        "Attukal Waterfalls: A stunning waterfall surrounded by lush greenery.\n",
        "Kundala Lake: A serene lake where visitors can enjoy pedal boating.\n",
        "Echo Point: Known for its natural echo phenomenon amidst scenic surroundings.\n",
        "Pothamedu Viewpoint: A beautiful spot for trekking and enjoying tea plantations.\n",
        "Chinnakanal Waterfalls: Also known as Power House Falls, a must-visit attraction.\n",
        "Blossom Park: A family-friendly park with gardens, activities, and a play area.\n",
        "\n",
        "\n",
        "\n",
        "\"\"\",\n",
        "        \"Wayanad.txt\": \"\"\"Edakkal Caves: Prehistoric caves featuring ancient carvings and stunning views.\n",
        "Chembra Peak: A popular trekking destination with a heart-shaped lake en route.\n",
        "Banasura Sagar Dam: The largest earth dam in India, offering boating and scenic views.\n",
        "Wayanad Wildlife Sanctuary: A sanctuary rich in biodiversity, ideal for nature lovers.\n",
        "Soochipara Waterfalls: A spectacular three-tiered waterfall surrounded by lush greenery.\n",
        "Pookode Lake: A serene freshwater lake perfect for boating and family outings.\n",
        "Thirunelli Temple: An ancient temple surrounded by forests, dedicated to Lord Vishnu.\n",
        "Kuruva Island: A group of river islands known for their serene environment and biodiversity.\n",
        "Meenmutty Waterfalls: A stunning waterfall requiring a short trek to reach.\n",
        "Pakshipathalam: A trekking spot and birdwatcher’s paradise in the Brahmagiri Hills.\n",
        "\n",
        "\n",
        "\n",
        "\"\"\",\n",
        " \"Goa.txt\": \"\"\"Baga Beach: A lively beach known for water sports, nightlife, and shacks.\n",
        "Fort Aguada: A historic Portuguese fort with stunning views of the Arabian Sea.\n",
        "Basilica of Bom Jesus: A UNESCO World Heritage Site housing the remains of St. Francis Xavier.\n",
        "Dudhsagar Waterfalls: A spectacular four-tiered waterfall on the Mandovi River.\n",
        "Anjuna Flea Market: A vibrant market offering handicrafts, jewelry, and clothing.\n",
        "Calangute Beach: Known as the Queen of Beaches, ideal for swimming and relaxation.\n",
        "Chapora Fort: Famous for its sunset views and as a shooting location for Bollywood movies.\n",
        "Arambol Beach: A serene beach popular for paragliding and yoga retreats.\n",
        "Old Goa Churches: A cluster of churches showcasing Portuguese architecture and heritage.\n",
        "Spice Plantations: Guided tours offering insights into Goa’s spice cultivation.\"\"\",\n",
        "    \"Ladakh.txt\": \"\"\"Pangong Lake: A stunning high-altitude lake famous for its changing colors.\n",
        "Nubra Valley: A scenic valley known for sand dunes, double-humped camels, and monasteries.\n",
        "Leh Palace: A 17th-century palace offering panoramic views of Leh town.\n",
        "Khardung La: One of the highest motorable passes in the world, ideal for adventure seekers.\n",
        "Magnetic Hill: A gravity-defying hill where vehicles appear to roll uphill.\n",
        "Thiksey Monastery: A picturesque monastery resembling the Potala Palace of Lhasa.\n",
        "Hemis National Park: A haven for wildlife enthusiasts, known for its snow leopards.\n",
        "Zanskar Valley: A remote valley offering trekking, river rafting, and natural beauty.\n",
        "Lamayuru Monastery: Known as the Moonland for its lunar-like landscapes.\n",
        "Tso Moriri Lake: A tranquil lake surrounded by mountains, perfect for birdwatching.\"\"\"\n",
        "    }\n",
        "\n",
        "# Save each destination to a file\n",
        "for file_name, content in data.items():\n",
        "    with open(f\"docs/{file_name}\", \"w\") as file:\n",
        "        file.write(content)\n",
        "\n",
        "print(\"All destination files have been saved successfully!\")\n"
      ],
      "metadata": {
        "colab": {
          "base_uri": "https://localhost:8080/"
        },
        "id": "DrXLvSg-O6MV",
        "outputId": "b70d3a30-cc4b-43d6-e640-659be0e9c3cf"
      },
      "execution_count": null,
      "outputs": [
        {
          "output_type": "stream",
          "name": "stdout",
          "text": [
            "All destination files have been saved successfully!\n"
          ]
        }
      ]
    },
    {
      "cell_type": "code",
      "source": [
        "import os\n",
        "\n",
        "# Specify the folder path\n",
        "folder_path = \"docs\"\n",
        "\n",
        "# List all files in the folder\n",
        "files = os.listdir(folder_path)\n",
        "\n",
        "# Print the files\n",
        "print(\"Files in 'docs' folder:\")\n",
        "for file in files:\n",
        "    print(file)\n"
      ],
      "metadata": {
        "colab": {
          "base_uri": "https://localhost:8080/"
        },
        "id": "vJEgRSKaScu5",
        "outputId": "e0aefaad-cd08-4ad4-ff4d-55cc10d088cc"
      },
      "execution_count": null,
      "outputs": [
        {
          "output_type": "stream",
          "name": "stdout",
          "text": [
            "Files in 'docs' folder:\n",
            "Jaipur.txt\n",
            "Paris.txt\n",
            "Ladakh.txt\n",
            "Bengaluru.txt\n",
            "Sydney.txt\n",
            "Goa.txt\n",
            "Alleppey.txt\n",
            "Tokyo.txt\n",
            "New_York_City.txt\n",
            "Chikmagalur.txt\n",
            "Munnar.txt\n",
            "Delhi.txt\n",
            "Varanasi.txt\n",
            "Hampi.txt\n",
            "Agra.txt\n",
            "Mumbai.txt\n",
            "Dubai.txt\n",
            "Wayanad.txt\n",
            "Mysuru.txt\n",
            "Coorg.txt\n"
          ]
        }
      ]
    },
    {
      "cell_type": "code",
      "source": [
        "from sentence_transformers import SentenceTransformer\n",
        "\n",
        "# Initialize the model\n",
        "model = SentenceTransformer(\"all-MiniLM-L6-v2\")\n",
        "\n",
        "# Create embeddings for each file's content\n",
        "embeddings = {}\n",
        "for file in files:\n",
        "    with open(f\"docs/{file}\", \"r\") as f:\n",
        "        content = f.read()\n",
        "        embeddings[file] = model.encode(content)\n",
        "\n",
        "print(\"Embeddings created successfully!\")\n"
      ],
      "metadata": {
        "colab": {
          "base_uri": "https://localhost:8080/"
        },
        "id": "3eYY1wZNSzRT",
        "outputId": "56802c7d-30fb-4b33-e836-8e52c08e0cea"
      },
      "execution_count": null,
      "outputs": [
        {
          "output_type": "stream",
          "name": "stdout",
          "text": [
            "Embeddings created successfully!\n"
          ]
        }
      ]
    },
    {
      "cell_type": "code",
      "source": [
        "import pickle\n",
        "\n",
        "# Save embeddings\n",
        "with open(\"embeddings.pkl\", \"wb\") as file:\n",
        "    pickle.dump(embeddings, file)\n",
        "\n",
        "print(\"Embeddings saved to 'embeddings.pkl'.\")\n"
      ],
      "metadata": {
        "colab": {
          "base_uri": "https://localhost:8080/"
        },
        "id": "wOzZnrmOS4Qw",
        "outputId": "9e566cac-0d46-496b-aea5-0dfcd47ba778"
      },
      "execution_count": null,
      "outputs": [
        {
          "output_type": "stream",
          "name": "stdout",
          "text": [
            "Embeddings saved to 'embeddings.pkl'.\n"
          ]
        }
      ]
    },
    {
      "cell_type": "code",
      "source": [
        "from scipy.spatial.distance import cosine\n",
        "\n",
        "def get_relevant_file(query, embeddings):\n",
        "    query_embedding = model.encode(query)\n",
        "    scores = {file: 1 - cosine(query_embedding, emb) for file, emb in embeddings.items()}\n",
        "    best_match = max(scores, key=scores.get)\n",
        "    return best_match, scores[best_match]\n",
        "\n",
        "# Example query\n",
        "query = \"Tell me about Goa\"\n",
        "best_file, score = get_relevant_file(query, embeddings)\n",
        "print(f\"\\nBest match: {best_file} (Score: {score})\")\n",
        "# Fetch and display the content of the best-matched file\n",
        "with open(f\"docs/{best_file}\", \"r\") as f:\n",
        "    content = f.read()\n",
        "\n",
        "print(f\"\\nContent from {best_file}:\")\n",
        "print(content)\n",
        "\n"
      ],
      "metadata": {
        "colab": {
          "base_uri": "https://localhost:8080/"
        },
        "id": "SFWGYSmoTXMR",
        "outputId": "8d0d7400-d936-4cb2-f202-87cb6fbf5dd7"
      },
      "execution_count": null,
      "outputs": [
        {
          "output_type": "stream",
          "name": "stdout",
          "text": [
            "\n",
            "Best match: Goa.txt (Score: 0.5475386381149292)\n",
            "\n",
            "Content from Goa.txt:\n",
            "Baga Beach: A lively beach known for water sports, nightlife, and shacks.\n",
            "Fort Aguada: A historic Portuguese fort with stunning views of the Arabian Sea.\n",
            "Basilica of Bom Jesus: A UNESCO World Heritage Site housing the remains of St. Francis Xavier.\n",
            "Dudhsagar Waterfalls: A spectacular four-tiered waterfall on the Mandovi River.\n",
            "Anjuna Flea Market: A vibrant market offering handicrafts, jewelry, and clothing.\n",
            "Calangute Beach: Known as the Queen of Beaches, ideal for swimming and relaxation.\n",
            "Chapora Fort: Famous for its sunset views and as a shooting location for Bollywood movies.\n",
            "Arambol Beach: A serene beach popular for paragliding and yoga retreats.\n",
            "Old Goa Churches: A cluster of churches showcasing Portuguese architecture and heritage.\n",
            "Spice Plantations: Guided tours offering insights into Goa’s spice cultivation.\n"
          ]
        }
      ]
    },
    {
      "cell_type": "code",
      "source": [
        "def get_top_matches(query, embeddings, top_k=3):\n",
        "    query_embedding = model.encode(query)\n",
        "    scores = {file: 1 - cosine(query_embedding, emb) for file, emb in embeddings.items()}\n",
        "    sorted_scores = sorted(scores.items(), key=lambda x: x[1], reverse=True)\n",
        "    return sorted_scores[:top_k]\n",
        "\n",
        "# Example query\n",
        "query = \"Tell me about temple\"\n",
        "top_matches = get_top_matches(query, embeddings)\n",
        "print(\"\\nTop matches:\")\n",
        "for file, score in top_matches:\n",
        "    print(f\"{file}: {score}\")\n"
      ],
      "metadata": {
        "colab": {
          "base_uri": "https://localhost:8080/"
        },
        "id": "1Xo0RDxyTZYI",
        "outputId": "d224c6c0-2765-4c80-b833-a2559326582d"
      },
      "execution_count": null,
      "outputs": [
        {
          "output_type": "stream",
          "name": "stdout",
          "text": [
            "\n",
            "Top matches:\n",
            "Varanasi.txt: 0.5237228246065625\n",
            "Coorg.txt: 0.5000905394554138\n",
            "Hampi.txt: 0.48886853522845986\n"
          ]
        }
      ]
    },
    {
      "cell_type": "code",
      "source": [
        "import streamlit as st\n",
        "\n",
        "st.title(\"Travel Chatbot\")\n",
        "\n",
        "query = st.text_input(\"Ask a travel question:\")\n",
        "if query:\n",
        "    best_file, score = get_relevant_file(query, embeddings)\n",
        "    with open(f\"docs/{best_file}\", \"r\") as f:\n",
        "        content = f.read()\n",
        "    st.write(f\"**Best Match:** {best_file.replace('.txt', '')}\")\n",
        "    st.write(content)\n"
      ],
      "metadata": {
        "colab": {
          "base_uri": "https://localhost:8080/"
        },
        "id": "xMnOjys1Tm9S",
        "outputId": "352af3b4-7d5e-4059-c28f-a2e99815faaf"
      },
      "execution_count": null,
      "outputs": [
        {
          "output_type": "stream",
          "name": "stderr",
          "text": [
            "2024-12-25 19:38:35.329 WARNING streamlit.runtime.scriptrunner_utils.script_run_context: Thread 'MainThread': missing ScriptRunContext! This warning can be ignored when running in bare mode.\n",
            "2024-12-25 19:38:35.680 \n",
            "  \u001b[33m\u001b[1mWarning:\u001b[0m to view this Streamlit app on a browser, run it with the following\n",
            "  command:\n",
            "\n",
            "    streamlit run /usr/local/lib/python3.10/dist-packages/colab_kernel_launcher.py [ARGUMENTS]\n",
            "2024-12-25 19:38:35.682 Thread 'MainThread': missing ScriptRunContext! This warning can be ignored when running in bare mode.\n",
            "2024-12-25 19:38:35.685 Thread 'MainThread': missing ScriptRunContext! This warning can be ignored when running in bare mode.\n",
            "2024-12-25 19:38:35.687 Thread 'MainThread': missing ScriptRunContext! This warning can be ignored when running in bare mode.\n",
            "2024-12-25 19:38:35.690 Thread 'MainThread': missing ScriptRunContext! This warning can be ignored when running in bare mode.\n",
            "2024-12-25 19:38:35.692 Thread 'MainThread': missing ScriptRunContext! This warning can be ignored when running in bare mode.\n",
            "2024-12-25 19:38:35.694 Session state does not function when running a script without `streamlit run`\n",
            "2024-12-25 19:38:35.696 Thread 'MainThread': missing ScriptRunContext! This warning can be ignored when running in bare mode.\n",
            "2024-12-25 19:38:35.697 Thread 'MainThread': missing ScriptRunContext! This warning can be ignored when running in bare mode.\n"
          ]
        }
      ]
    },
    {
      "cell_type": "code",
      "source": [
        "import gradio as gr\n",
        "from scipy.spatial.distance import cosine\n",
        "import pickle\n",
        "from sentence_transformers import SentenceTransformer\n",
        "\n",
        "# Load embeddings\n",
        "with open(\"embeddings.pkl\", \"rb\") as file:\n",
        "    embeddings = pickle.load(file)\n",
        "\n",
        "# Initialize the model\n",
        "model = SentenceTransformer('all-MiniLM-L6-v2')\n",
        "\n",
        "# Function to get relevant sections from the best-matched file\n",
        "def get_relevant_section(query, file_content):\n",
        "    sections = file_content.split(\"\\n\")  # Split content into lines\n",
        "    query_embedding = model.encode(query)  # Encode the query\n",
        "    # Calculate similarity for each section\n",
        "    scores = [\n",
        "        (section, 1 - cosine(query_embedding, model.encode(section)))\n",
        "        for section in sections if section.strip()\n",
        "    ]\n",
        "    # Sort by relevance and return top 1-3 sections\n",
        "    scores = sorted(scores, key=lambda x: x[1], reverse=True)\n",
        "    return scores[:3]\n",
        "\n",
        "# Function to get the best file and its relevant sections\n",
        "def chatbot_response(query):\n",
        "    query_embedding = model.encode(query)\n",
        "    scores = {file: 1 - cosine(query_embedding, emb) for file, emb in embeddings.items()}\n",
        "    best_match = max(scores, key=scores.get)\n",
        "\n",
        "    with open(f\"docs/{best_match}\", \"r\") as file:\n",
        "        file_content = file.read()\n",
        "\n",
        "    top_sections = get_relevant_section(query, file_content)\n",
        "    response = f\"**Best Match:** {best_match.replace('.txt', '')}\\n\\n\"\n",
        "    for i, (section, score) in enumerate(top_sections):\n",
        "        response += f\"**Relevant Info {i+1}:** {section} (Score: {score:.2f})\\n\\n\"\n",
        "    return response\n",
        "\n",
        "# Gradio Interface\n",
        "iface = gr.Interface(\n",
        "    fn=chatbot_response,\n",
        "    inputs=gr.Textbox(label=\"Ask a travel question\"),\n",
        "    outputs=gr.Textbox(label=\"Response\"),\n",
        "    title=\"Travel and Tourism Chatbot\",\n",
        "    description=\"Ask questions about various destinations to get relevant information.\"\n",
        ")\n",
        "\n",
        "# Launch the chatbot\n",
        "iface.launch()\n"
      ],
      "metadata": {
        "colab": {
          "base_uri": "https://localhost:8080/",
          "height": 646
        },
        "id": "zWB3ntvuWK2D",
        "outputId": "85e25a50-565e-4592-c3ba-edbed4857dcf"
      },
      "execution_count": null,
      "outputs": [
        {
          "output_type": "stream",
          "name": "stdout",
          "text": [
            "Running Gradio in a Colab notebook requires sharing enabled. Automatically setting `share=True` (you can turn this off by setting `share=False` in `launch()` explicitly).\n",
            "\n",
            "Colab notebook detected. To show errors in colab notebook, set debug=True in launch()\n",
            "* Running on public URL: https://6227a659b11a6cde29.gradio.live\n",
            "\n",
            "This share link expires in 72 hours. For free permanent hosting and GPU upgrades, run `gradio deploy` from the terminal in the working directory to deploy to Hugging Face Spaces (https://huggingface.co/spaces)\n"
          ]
        },
        {
          "output_type": "display_data",
          "data": {
            "text/plain": [
              "<IPython.core.display.HTML object>"
            ],
            "text/html": [
              "<div><iframe src=\"https://6227a659b11a6cde29.gradio.live\" width=\"100%\" height=\"500\" allow=\"autoplay; camera; microphone; clipboard-read; clipboard-write;\" frameborder=\"0\" allowfullscreen></iframe></div>"
            ]
          },
          "metadata": {}
        },
        {
          "output_type": "execute_result",
          "data": {
            "text/plain": []
          },
          "metadata": {},
          "execution_count": 16
        }
      ]
    },
    {
      "cell_type": "code",
      "source": [
        "from scipy.spatial.distance import cosine\n",
        "\n",
        "def get_relevant_section(query, file_content):\n",
        "    # Split content into sections (lines)\n",
        "    sections = file_content.split(\"\\n\")\n",
        "\n",
        "    # Encode the query\n",
        "    query_embedding = model.encode(query)\n",
        "\n",
        "    # Calculate similarity for each section\n",
        "    scores = [\n",
        "        (section, 1 - cosine(query_embedding, model.encode(section)))\n",
        "        for section in sections if section.strip()\n",
        "    ]\n",
        "\n",
        "    # Sort by relevance score\n",
        "    scores = sorted(scores, key=lambda x: x[1], reverse=True)\n",
        "\n",
        "    # Return the top 1-3 relevant sections\n",
        "    return scores[:3]\n",
        "\n",
        "def get_relevant_file_and_section(query, embeddings):\n",
        "    # Find the best file match\n",
        "    query_embedding = model.encode(query)\n",
        "    scores = {file: 1 - cosine(query_embedding, emb) for file, emb in embeddings.items()}\n",
        "    best_match = max(scores, key=scores.get)\n",
        "\n",
        "    # Get file content\n",
        "    with open(f\"docs/{best_match}\", \"r\") as f:\n",
        "        file_content = f.read()\n",
        "\n",
        "    # Get top relevant sections\n",
        "    top_sections = get_relevant_section(query, file_content)\n",
        "    return best_match, top_sections\n"
      ],
      "metadata": {
        "id": "QHPhC6ZDV2_Z"
      },
      "execution_count": null,
      "outputs": []
    },
    {
      "cell_type": "code",
      "source": [
        "!pip install gradio\n"
      ],
      "metadata": {
        "colab": {
          "base_uri": "https://localhost:8080/"
        },
        "id": "gk8IMab-UjKc",
        "outputId": "39681c57-5437-4fd7-cc52-3f913d61a311"
      },
      "execution_count": null,
      "outputs": [
        {
          "output_type": "stream",
          "name": "stdout",
          "text": [
            "Requirement already satisfied: gradio in /usr/local/lib/python3.10/dist-packages (5.9.1)\n",
            "Requirement already satisfied: aiofiles<24.0,>=22.0 in /usr/local/lib/python3.10/dist-packages (from gradio) (23.2.1)\n",
            "Requirement already satisfied: anyio<5.0,>=3.0 in /usr/local/lib/python3.10/dist-packages (from gradio) (3.7.1)\n",
            "Requirement already satisfied: fastapi<1.0,>=0.115.2 in /usr/local/lib/python3.10/dist-packages (from gradio) (0.115.6)\n",
            "Requirement already satisfied: ffmpy in /usr/local/lib/python3.10/dist-packages (from gradio) (0.5.0)\n",
            "Requirement already satisfied: gradio-client==1.5.2 in /usr/local/lib/python3.10/dist-packages (from gradio) (1.5.2)\n",
            "Requirement already satisfied: httpx>=0.24.1 in /usr/local/lib/python3.10/dist-packages (from gradio) (0.28.1)\n",
            "Requirement already satisfied: huggingface-hub>=0.25.1 in /usr/local/lib/python3.10/dist-packages (from gradio) (0.27.0)\n",
            "Requirement already satisfied: jinja2<4.0 in /usr/local/lib/python3.10/dist-packages (from gradio) (3.1.4)\n",
            "Requirement already satisfied: markupsafe~=2.0 in /usr/local/lib/python3.10/dist-packages (from gradio) (2.1.5)\n",
            "Requirement already satisfied: numpy<3.0,>=1.0 in /usr/local/lib/python3.10/dist-packages (from gradio) (1.26.4)\n",
            "Requirement already satisfied: orjson~=3.0 in /usr/local/lib/python3.10/dist-packages (from gradio) (3.10.12)\n",
            "Requirement already satisfied: packaging in /usr/local/lib/python3.10/dist-packages (from gradio) (24.2)\n",
            "Requirement already satisfied: pandas<3.0,>=1.0 in /usr/local/lib/python3.10/dist-packages (from gradio) (2.2.2)\n",
            "Requirement already satisfied: pillow<12.0,>=8.0 in /usr/local/lib/python3.10/dist-packages (from gradio) (11.0.0)\n",
            "Requirement already satisfied: pydantic>=2.0 in /usr/local/lib/python3.10/dist-packages (from gradio) (2.10.3)\n",
            "Requirement already satisfied: pydub in /usr/local/lib/python3.10/dist-packages (from gradio) (0.25.1)\n",
            "Requirement already satisfied: python-multipart>=0.0.18 in /usr/local/lib/python3.10/dist-packages (from gradio) (0.0.20)\n",
            "Requirement already satisfied: pyyaml<7.0,>=5.0 in /usr/local/lib/python3.10/dist-packages (from gradio) (6.0.2)\n",
            "Requirement already satisfied: ruff>=0.2.2 in /usr/local/lib/python3.10/dist-packages (from gradio) (0.8.4)\n",
            "Requirement already satisfied: safehttpx<0.2.0,>=0.1.6 in /usr/local/lib/python3.10/dist-packages (from gradio) (0.1.6)\n",
            "Requirement already satisfied: semantic-version~=2.0 in /usr/local/lib/python3.10/dist-packages (from gradio) (2.10.0)\n",
            "Requirement already satisfied: starlette<1.0,>=0.40.0 in /usr/local/lib/python3.10/dist-packages (from gradio) (0.41.3)\n",
            "Requirement already satisfied: tomlkit<0.14.0,>=0.12.0 in /usr/local/lib/python3.10/dist-packages (from gradio) (0.13.2)\n",
            "Requirement already satisfied: typer<1.0,>=0.12 in /usr/local/lib/python3.10/dist-packages (from gradio) (0.15.1)\n",
            "Requirement already satisfied: typing-extensions~=4.0 in /usr/local/lib/python3.10/dist-packages (from gradio) (4.12.2)\n",
            "Requirement already satisfied: uvicorn>=0.14.0 in /usr/local/lib/python3.10/dist-packages (from gradio) (0.34.0)\n",
            "Requirement already satisfied: fsspec in /usr/local/lib/python3.10/dist-packages (from gradio-client==1.5.2->gradio) (2024.10.0)\n",
            "Requirement already satisfied: websockets<15.0,>=10.0 in /usr/local/lib/python3.10/dist-packages (from gradio-client==1.5.2->gradio) (14.1)\n",
            "Requirement already satisfied: idna>=2.8 in /usr/local/lib/python3.10/dist-packages (from anyio<5.0,>=3.0->gradio) (3.10)\n",
            "Requirement already satisfied: sniffio>=1.1 in /usr/local/lib/python3.10/dist-packages (from anyio<5.0,>=3.0->gradio) (1.3.1)\n",
            "Requirement already satisfied: exceptiongroup in /usr/local/lib/python3.10/dist-packages (from anyio<5.0,>=3.0->gradio) (1.2.2)\n",
            "Requirement already satisfied: certifi in /usr/local/lib/python3.10/dist-packages (from httpx>=0.24.1->gradio) (2024.12.14)\n",
            "Requirement already satisfied: httpcore==1.* in /usr/local/lib/python3.10/dist-packages (from httpx>=0.24.1->gradio) (1.0.7)\n",
            "Requirement already satisfied: h11<0.15,>=0.13 in /usr/local/lib/python3.10/dist-packages (from httpcore==1.*->httpx>=0.24.1->gradio) (0.14.0)\n",
            "Requirement already satisfied: filelock in /usr/local/lib/python3.10/dist-packages (from huggingface-hub>=0.25.1->gradio) (3.16.1)\n",
            "Requirement already satisfied: requests in /usr/local/lib/python3.10/dist-packages (from huggingface-hub>=0.25.1->gradio) (2.32.3)\n",
            "Requirement already satisfied: tqdm>=4.42.1 in /usr/local/lib/python3.10/dist-packages (from huggingface-hub>=0.25.1->gradio) (4.67.1)\n",
            "Requirement already satisfied: python-dateutil>=2.8.2 in /usr/local/lib/python3.10/dist-packages (from pandas<3.0,>=1.0->gradio) (2.8.2)\n",
            "Requirement already satisfied: pytz>=2020.1 in /usr/local/lib/python3.10/dist-packages (from pandas<3.0,>=1.0->gradio) (2024.2)\n",
            "Requirement already satisfied: tzdata>=2022.7 in /usr/local/lib/python3.10/dist-packages (from pandas<3.0,>=1.0->gradio) (2024.2)\n",
            "Requirement already satisfied: annotated-types>=0.6.0 in /usr/local/lib/python3.10/dist-packages (from pydantic>=2.0->gradio) (0.7.0)\n",
            "Requirement already satisfied: pydantic-core==2.27.1 in /usr/local/lib/python3.10/dist-packages (from pydantic>=2.0->gradio) (2.27.1)\n",
            "Requirement already satisfied: click>=8.0.0 in /usr/local/lib/python3.10/dist-packages (from typer<1.0,>=0.12->gradio) (8.1.7)\n",
            "Requirement already satisfied: shellingham>=1.3.0 in /usr/local/lib/python3.10/dist-packages (from typer<1.0,>=0.12->gradio) (1.5.4)\n",
            "Requirement already satisfied: rich>=10.11.0 in /usr/local/lib/python3.10/dist-packages (from typer<1.0,>=0.12->gradio) (13.9.4)\n",
            "Requirement already satisfied: six>=1.5 in /usr/local/lib/python3.10/dist-packages (from python-dateutil>=2.8.2->pandas<3.0,>=1.0->gradio) (1.17.0)\n",
            "Requirement already satisfied: markdown-it-py>=2.2.0 in /usr/local/lib/python3.10/dist-packages (from rich>=10.11.0->typer<1.0,>=0.12->gradio) (3.0.0)\n",
            "Requirement already satisfied: pygments<3.0.0,>=2.13.0 in /usr/local/lib/python3.10/dist-packages (from rich>=10.11.0->typer<1.0,>=0.12->gradio) (2.18.0)\n",
            "Requirement already satisfied: charset-normalizer<4,>=2 in /usr/local/lib/python3.10/dist-packages (from requests->huggingface-hub>=0.25.1->gradio) (3.4.0)\n",
            "Requirement already satisfied: urllib3<3,>=1.21.1 in /usr/local/lib/python3.10/dist-packages (from requests->huggingface-hub>=0.25.1->gradio) (2.2.3)\n",
            "Requirement already satisfied: mdurl~=0.1 in /usr/local/lib/python3.10/dist-packages (from markdown-it-py>=2.2.0->rich>=10.11.0->typer<1.0,>=0.12->gradio) (0.1.2)\n"
          ]
        }
      ]
    },
    {
      "cell_type": "code",
      "source": [
        "def chatbot_response(query):\n",
        "    query_embedding = model.encode(query)\n",
        "    scores = {file: 1 - cosine(query_embedding, emb) for file, emb in embeddings.items()}\n",
        "    best_match = max(scores, key=scores.get)\n",
        "\n",
        "    with open(f\"docs/{best_match}\", \"r\") as file:\n",
        "        file_content = file.read()\n",
        "\n",
        "    top_sections = get_relevant_section(query, file_content)\n",
        "    response = f\"**Destination:** {best_match.replace('.txt', '')}\\n\\n\"\n",
        "    response += \"Here’s what you can explore:\\n\\n\"\n",
        "    for i, (section, score) in enumerate(top_sections):\n",
        "        response += f\"{i+1}. {section.strip()} (Relevance: {score:.2f})\\n\\n\"\n",
        "    return response\n"
      ],
      "metadata": {
        "id": "zjV5Y9U5VGKn"
      },
      "execution_count": null,
      "outputs": []
    },
    {
      "cell_type": "code",
      "source": [
        "def chatbot_response(query):\n",
        "    query_embedding = model.encode(query)\n",
        "    scores = {file: 1 - cosine(query_embedding, emb) for file, emb in embeddings.items()}\n",
        "    best_match = max(scores, key=scores.get)\n",
        "\n",
        "    # Handle low relevance scores\n",
        "    if scores[best_match] < 0.3:  # Lower threshold\n",
        "        return \"Sorry, I couldn’t find relevant information. Could you try rephrasing your question?\"\n",
        "\n",
        "    with open(f\"docs/{best_match}\", \"r\") as file:\n",
        "        file_content = file.read()\n",
        "\n",
        "    top_sections = get_relevant_section(query, file_content)\n",
        "    response = f\"**Destination:** {best_match.replace('.txt', '')}\\n\\n\"\n",
        "    for i, (section, score) in enumerate(top_sections):\n",
        "        response += f\"{i+1}. {section.strip()} (Relevance: {score:.2f})\\n\\n\"\n",
        "    return response\n"
      ],
      "metadata": {
        "id": "z79ZQ5IPXHC3"
      },
      "execution_count": null,
      "outputs": []
    },
    {
      "cell_type": "markdown",
      "source": [],
      "metadata": {
        "id": "_BpqnCFdXqAi"
      }
    },
    {
      "cell_type": "code",
      "source": [],
      "metadata": {
        "colab": {
          "base_uri": "https://localhost:8080/",
          "height": 106
        },
        "id": "t4VcSNJGZIHT",
        "outputId": "90966254-d6b3-4df4-a760-3397865322da"
      },
      "execution_count": null,
      "outputs": [
        {
          "output_type": "error",
          "ename": "SyntaxError",
          "evalue": "f-string: invalid syntax (<ipython-input-23-b07abc10d21e>, line 3)",
          "traceback": [
            "\u001b[0;36m  File \u001b[0;32m\"<ipython-input-23-b07abc10d21e>\"\u001b[0;36m, line \u001b[0;32m3\u001b[0m\n\u001b[0;31m    with open(f\"docs/{/content/docs/FAQs.txt}\", \"r\", encoding=\"utf-8\") as file:\u001b[0m\n\u001b[0m    ^\u001b[0m\n\u001b[0;31mSyntaxError\u001b[0m\u001b[0;31m:\u001b[0m f-string: invalid syntax\n"
          ]
        }
      ]
    },
    {
      "cell_type": "code",
      "source": [
        "print(embeddings.keys())\n"
      ],
      "metadata": {
        "colab": {
          "base_uri": "https://localhost:8080/"
        },
        "id": "2RgRXNX0Y5vV",
        "outputId": "3a939ee4-a0ed-4dbe-8f92-faaddd8ee825"
      },
      "execution_count": null,
      "outputs": [
        {
          "output_type": "stream",
          "name": "stdout",
          "text": [
            "dict_keys(['Jaipur.txt', 'Paris.txt', 'Ladakh.txt', 'Bengaluru.txt', 'Sydney.txt', 'Goa.txt', 'Alleppey.txt', 'Tokyo.txt', 'New_York_City.txt', 'Chikmagalur.txt', 'Munnar.txt', 'Delhi.txt', 'Varanasi.txt', 'Hampi.txt', 'Agra.txt', 'Mumbai.txt', 'Dubai.txt', 'Wayanad.txt', 'Mysuru.txt', 'Coorg.txt'])\n"
          ]
        }
      ]
    },
    {
      "cell_type": "code",
      "source": [
        "import gradio as gr\n",
        "from scipy.spatial.distance import cosine\n",
        "from sentence_transformers import SentenceTransformer\n",
        "import pickle\n",
        "import os\n",
        "\n",
        "# Load embeddings\n",
        "with open(\"embeddings.pkl\", \"rb\") as file:\n",
        "    embeddings = pickle.load(file)\n",
        "\n",
        "# Initialize the model\n",
        "model = SentenceTransformer('all-MiniLM-L6-v2')\n",
        "\n",
        "# Function to get relevant sections from file content\n",
        "def get_relevant_section(query, file_content):\n",
        "    sections = file_content.split(\"\\n\")  # Split content into lines\n",
        "    query_embedding = model.encode(query)  # Encode the query\n",
        "    # Calculate similarity for each section\n",
        "    scores = [\n",
        "        (section, 1 - cosine(query_embedding, model.encode(section)))\n",
        "        for section in sections if section.strip()\n",
        "    ]\n",
        "    # Sort by relevance and return top 1-3 sections\n",
        "    scores = sorted(scores, key=lambda x: x[1], reverse=True)\n",
        "    return scores[:3]\n",
        "\n",
        "# Function to handle unmatched queries\n",
        "def handle_fallback():\n",
        "    return \"Sorry, I couldn’t find relevant information for your query. Could you try rephrasing or asking about another destination?\"\n",
        "\n",
        "# Function to get the best file and its relevant sections\n",
        "def chatbot_response(query):\n",
        "    query_embedding = model.encode(query)\n",
        "    scores = {file: 1 - cosine(query_embedding, emb) for file, emb in embeddings.items()}\n",
        "    best_match = max(scores, key=scores.get)\n",
        "\n",
        "    # Handle low relevance scores\n",
        "    if scores[best_match] < 0.3:  # Threshold for fallback\n",
        "        return handle_fallback()\n",
        "\n",
        "    with open(f\"docs/{best_match}\", \"r\") as file:\n",
        "        file_content = file.read()\n",
        "\n",
        "    top_sections = get_relevant_section(query, file_content)\n",
        "    response = f\"**Topic:** {best_match.replace('.txt', '')}\\n\\n\"\n",
        "    for i, (section, score) in enumerate(top_sections):\n",
        "        response += f\"{i+1}. {section.strip()} (Relevance: {score:.2f})\\n\\n\"\n",
        "    return response\n",
        "\n",
        "# Gradio Interface\n",
        "iface = gr.Interface(\n",
        "    fn=chatbot_response,\n",
        "    inputs=gr.Textbox(label=\"Ask a travel question\"),\n",
        "    outputs=gr.Textbox(label=\"Response\"),\n",
        "    title=\"Travel and Tourism Chatbot\",\n",
        "    description=\"Ask questions about destinations, travel tips, or FAQs.\"\n",
        ")\n",
        "\n",
        "# Launch the chatbot\n",
        "iface.launch()\n"
      ],
      "metadata": {
        "colab": {
          "base_uri": "https://localhost:8080/",
          "height": 646
        },
        "id": "RZsZ9FK2YCgK",
        "outputId": "4f8d2b2e-1583-490a-a109-b8b9e7b947c3"
      },
      "execution_count": null,
      "outputs": [
        {
          "output_type": "stream",
          "name": "stdout",
          "text": [
            "Running Gradio in a Colab notebook requires sharing enabled. Automatically setting `share=True` (you can turn this off by setting `share=False` in `launch()` explicitly).\n",
            "\n",
            "Colab notebook detected. To show errors in colab notebook, set debug=True in launch()\n",
            "* Running on public URL: https://761c93bbe500efba1c.gradio.live\n",
            "\n",
            "This share link expires in 72 hours. For free permanent hosting and GPU upgrades, run `gradio deploy` from the terminal in the working directory to deploy to Hugging Face Spaces (https://huggingface.co/spaces)\n"
          ]
        },
        {
          "output_type": "display_data",
          "data": {
            "text/plain": [
              "<IPython.core.display.HTML object>"
            ],
            "text/html": [
              "<div><iframe src=\"https://761c93bbe500efba1c.gradio.live\" width=\"100%\" height=\"500\" allow=\"autoplay; camera; microphone; clipboard-read; clipboard-write;\" frameborder=\"0\" allowfullscreen></iframe></div>"
            ]
          },
          "metadata": {}
        },
        {
          "output_type": "execute_result",
          "data": {
            "text/plain": []
          },
          "metadata": {},
          "execution_count": 26
        }
      ]
    },
    {
      "cell_type": "code",
      "source": [
        "from scipy.spatial.distance import cosine\n",
        "\n",
        "def chatbot_response(query):\n",
        "    # Encode the user query\n",
        "    query_embedding = model.encode(query)\n",
        "\n",
        "    # Calculate similarity for each file\n",
        "    scores = {file: 1 - cosine(query_embedding, emb) for file, emb in embeddings.items()}\n",
        "    best_match = max(scores, key=scores.get)\n",
        "\n",
        "    # If relevance score is low, fallback to FAQs.txt\n",
        "    if scores[best_match] < 0.5:  # Threshold for fallback\n",
        "        best_match = \"FAQs.txt\"\n",
        "\n",
        "    # Read content of the best match\n",
        "    with open(f\"docs/{best_match}\", \"r\") as file:\n",
        "        file_content = file.read()\n",
        "\n",
        "    # Find the most relevant FAQ or section\n",
        "    relevant_sections = get_relevant_section(query, file_content)\n",
        "    response = f\"**Topic:** {best_match.replace('.txt', '')}\\n\\n\"\n",
        "    for i, (section, score) in enumerate(relevant_sections):\n",
        "        response += f\"{i+1}. {section.strip()} (Relevance: {score:.2f})\\n\\n\"\n",
        "    return response\n",
        "\n",
        "def get_relevant_section(query, file_content):\n",
        "    # Split content into lines (assumes line-separated Q&A format)\n",
        "    sections = file_content.split(\"\\n\")\n",
        "    query_embedding = model.encode(query)\n",
        "\n",
        "    # Compute similarity for each line\n",
        "    scores = [\n",
        "        (section, 1 - cosine(query_embedding, model.encode(section)))\n",
        "        for section in sections if section.strip()\n",
        "    ]\n",
        "    # Sort by relevance and return top 1-3 sections\n",
        "    scores = sorted(scores, key=lambda x: x[1], reverse=True)\n",
        "    return scores[:3]\n"
      ],
      "metadata": {
        "id": "szgiVOyUaA8D"
      },
      "execution_count": null,
      "outputs": []
    },
    {
      "cell_type": "code",
      "source": [
        "def chatbot_response(query):\n",
        "    # Encode the user query\n",
        "    query_embedding = model.encode(query)\n",
        "\n",
        "    # Calculate similarity for each file\n",
        "    scores = {file: 1 - cosine(query_embedding, emb) for file, emb in embeddings.items()}\n",
        "    best_match = max(scores, key=scores.get)\n",
        "\n",
        "    # If relevance score is low, fallback to FAQs.txt\n",
        "    if scores[best_match] < 0.5:  # Threshold for fallback\n",
        "        best_match = \"FAQs.txt\"\n",
        "\n",
        "    # Read content of the best match\n",
        "    with open(f\"docs/{best_match}\", \"r\") as file:\n",
        "        file_content = file.read()\n",
        "\n",
        "    # Find the most relevant FAQ or section\n",
        "    relevant_sections = get_relevant_section(query, file_content)\n",
        "    if relevant_sections:\n",
        "        # Return only the most relevant response\n",
        "        section, relevance = relevant_sections[0]\n",
        "        response = f\"**Topic:** {best_match.replace('.txt', '')}\\n\\n\"\n",
        "        response += f\"{section.split(':')[1].strip()} (Relevance: {relevance:.2f})\"\n",
        "    else:\n",
        "        response = \"Sorry, I couldn't find relevant information. Please try rephrasing your question.\"\n",
        "\n",
        "    return response\n",
        "\n",
        "def get_relevant_section(query, file_content):\n",
        "    # Split content into lines (assumes line-separated Q&A format)\n",
        "    sections = file_content.split(\"\\n\")\n",
        "    query_embedding = model.encode(query)\n",
        "\n",
        "    # Compute similarity for each line\n",
        "    scores = [\n",
        "        (section, 1 - cosine(query_embedding, model.encode(section)))\n",
        "        for section in sections if section.strip()\n",
        "    ]\n",
        "    # Sort by relevance and return top 1-3 sections\n",
        "    scores = sorted(scores, key=lambda x: x[1], reverse=True)\n",
        "    return scores[:3]\n"
      ],
      "metadata": {
        "id": "YjtSO_3uaiNC"
      },
      "execution_count": null,
      "outputs": []
    },
    {
      "cell_type": "code",
      "source": [
        "# Gradio Interface\n",
        "iface = gr.Interface(\n",
        "    fn=chatbot_response,\n",
        "    inputs=gr.Textbox(label=\"Ask a travel question\"),\n",
        "    outputs=gr.Textbox(label=\"Response\"),\n",
        "    title=\"Travel and Tourism Chatbot\",\n",
        "    description=\"Ask questions about destinations, travel tips, or FAQs.\"\n",
        ")\n",
        "\n",
        "# Launch the chatbot\n",
        "iface.launch()"
      ],
      "metadata": {
        "colab": {
          "base_uri": "https://localhost:8080/",
          "height": 646
        },
        "id": "pN-gg_y4aF_Q",
        "outputId": "2fa4cc94-4df5-4859-f11b-d8ead9ef6c05"
      },
      "execution_count": null,
      "outputs": [
        {
          "output_type": "stream",
          "name": "stdout",
          "text": [
            "Running Gradio in a Colab notebook requires sharing enabled. Automatically setting `share=True` (you can turn this off by setting `share=False` in `launch()` explicitly).\n",
            "\n",
            "Colab notebook detected. To show errors in colab notebook, set debug=True in launch()\n",
            "* Running on public URL: https://d087348f0c94b5f335.gradio.live\n",
            "\n",
            "This share link expires in 72 hours. For free permanent hosting and GPU upgrades, run `gradio deploy` from the terminal in the working directory to deploy to Hugging Face Spaces (https://huggingface.co/spaces)\n"
          ]
        },
        {
          "output_type": "display_data",
          "data": {
            "text/plain": [
              "<IPython.core.display.HTML object>"
            ],
            "text/html": [
              "<div><iframe src=\"https://d087348f0c94b5f335.gradio.live\" width=\"100%\" height=\"500\" allow=\"autoplay; camera; microphone; clipboard-read; clipboard-write;\" frameborder=\"0\" allowfullscreen></iframe></div>"
            ]
          },
          "metadata": {}
        },
        {
          "output_type": "execute_result",
          "data": {
            "text/plain": []
          },
          "metadata": {},
          "execution_count": 31
        }
      ]
    },
    {
      "cell_type": "code",
      "source": [
        "from scipy.spatial.distance import cosine\n",
        "from sentence_transformers import SentenceTransformer\n",
        "import pickle\n",
        "\n",
        "# Load the model and embeddings\n",
        "model = SentenceTransformer('all-MiniLM-L6-v2')\n",
        "\n",
        "with open(\"embeddings.pkl\", \"rb\") as file:\n",
        "    embeddings = pickle.load(file)\n",
        "\n",
        "def get_best_match(query, embeddings):\n",
        "    query_embedding = model.encode(query)\n",
        "    scores = {file: 1 - cosine(query_embedding, emb) for file, emb in embeddings.items()}\n",
        "    best_match = max(scores, key=scores.get)\n",
        "    return best_match\n",
        "\n",
        "# Evaluate accuracy\n",
        "def evaluate_accuracy(test_queries, embeddings):\n",
        "    correct_matches = 0\n",
        "    for query, expected_file in test_queries.items():\n",
        "        predicted_file = get_best_match(query, embeddings)\n",
        "        print(f\"Query: {query}\")\n",
        "        print(f\"Predicted: {predicted_file}, Expected: {expected_file}\")\n",
        "        if predicted_file == expected_file:\n",
        "            correct_matches += 1\n",
        "    accuracy = (correct_matches / len(test_queries)) * 100\n",
        "    return accuracy\n",
        "\n",
        "# Test queries and accuracy calculation\n",
        "accuracy = evaluate_accuracy(test_queries, embeddings)\n",
        "print(f\"Query-Response Accuracy: {accuracy:.2f}%\")\n"
      ],
      "metadata": {
        "colab": {
          "base_uri": "https://localhost:8080/"
        },
        "id": "eWJvJ5RtaLy-",
        "outputId": "3db9f120-75a9-471e-89df-80143cffe5c5"
      },
      "execution_count": null,
      "outputs": [
        {
          "output_type": "stream",
          "name": "stdout",
          "text": [
            "Query: Tell me about the Eiffel Tower\n",
            "Predicted: Paris.txt, Expected: Paris.txt\n",
            "Query: What are some famous beaches in Goa?\n",
            "Predicted: Goa.txt, Expected: Goa.txt\n",
            "Query: Describe historical places in Delhi\n",
            "Predicted: Delhi.txt, Expected: Delhi.txt\n",
            "Query: What’s the best time to visit Paris?\n",
            "Predicted: Paris.txt, Expected: FAQs.txt\n",
            "Query-Response Accuracy: 75.00%\n"
          ]
        }
      ]
    },
    {
      "cell_type": "code",
      "source": [
        "test_queries =\n",
        "    \"Tell me about the Eiffel Tower\": \"Paris.txt\",\n",
        "    \"What are some famous beaches in Goa?\": \"Goa.txt\",\n",
        "    \"Describe historical places in Delhi\": \"Delhi.txt\",\n",
        "    \"What’s the best time to visit Paris?\": \"FAQs.txt\"\n",
        "\n",
        "\"Mumbai.txt\": \"\"\"\n",
        "Gateway of India: A historic monument overlooking the Arabian Sea.\n",
        "Marine Drive: A scenic promenade known as the Queen’s Necklace.\n",
        "Elephanta Caves: UNESCO-listed rock-cut caves with ancient sculptures.\n",
        "Chhatrapati Shivaji Terminus: A UNESCO World Heritage Site and historic railway station.\n",
        "Juhu Beach: A popular spot for relaxing and trying Mumbai street food.\n",
        "Siddhivinayak Temple: A revered temple dedicated to Lord Ganesha.\n",
        "Haji Ali Dargah: A mosque and tomb located on an islet in the Arabian Sea.\n",
        "Colaba Causeway: A vibrant market for shopping and dining.\n",
        "Kanheri Caves: Ancient Buddhist caves located in Sanjay Gandhi National Park.\n",
        "Film City: The hub of Bollywood, offering studio tours and insights into Indian cinema.\n",
        "\n",
        "\n",
        "\"\"\",\"Varanasi.txt\": \"\"\"Kashi Vishwanath Temple: A revered temple dedicated to Lord Shiva.\n",
        "Dashashwamedh Ghat: The main ghat, known for its grand Ganga Aarti ceremony.\n",
        "Manikarnika Ghat: A sacred ghat used for cremation rituals.\n",
        "Banaras Hindu University: A prestigious university with a beautiful campus.\n",
        "Sarnath: A Buddhist pilgrimage site where Lord Buddha gave his first sermon.\n",
        "Assi Ghat: A tranquil ghat popular among pilgrims and tourists.\n",
        "Ramnagar Fort: A historic fort and museum located across the Ganges.\n",
        "Tulsi Manas Mandir: A temple dedicated to Lord Rama and built at the site where Tulsidas wrote the Ramcharitmanas.\n",
        "Alamgir Mosque: A mosque built by Aurangzeb, offering panoramic views of the Ganges.\n",
        "Ganga Aarti: A mesmerizing evening ritual performed on the banks of the Ganges.\n",
        "\n",
        "\n",
        "\"\"\",\n",
        "    \"Bengaluru.txt\": \"\"\"Lalbagh Botanical Garden: A sprawling garden with rare plant species and a famous glasshouse.\n",
        "Bangalore Palace: A Tudor-style palace reflecting grandeur and royal heritage.\n",
        "Cubbon Park: A green oasis in the heart of the city, ideal for relaxation.\n",
        "Bannerghatta National Park: A wildlife sanctuary with safaris and a zoo.\n",
        "ISKCON Temple: A spiritual center with stunning architecture dedicated to Lord Krishna.\n",
        "Vidhana Soudha: An iconic government building showcasing Neo-Dravidian architecture.\n",
        "Nandi Hills: A scenic hill station near Bengaluru, perfect for trekking and sunrise views.\n",
        "Wonderla Amusement Park: A popular theme park with thrilling rides and water slides.\n",
        "UB City: A luxury mall offering high-end shopping and fine dining.\n",
        "Commercial Street: A vibrant shopping destination for clothes, accessories, and street food.\n",
        "}"
      ],
      "metadata": {
        "colab": {
          "base_uri": "https://localhost:8080/",
          "height": 124
        },
        "id": "Kfi53GGGlCWG",
        "outputId": "bc00b5e8-09fb-4ecd-fed8-2f5f5187c46b"
      },
      "execution_count": null,
      "outputs": [
        {
          "output_type": "error",
          "ename": "SyntaxError",
          "evalue": "unterminated triple-quoted string literal (detected at line 43) (<ipython-input-36-07ce4b7e47c4>, line 33)",
          "traceback": [
            "\u001b[0;36m  File \u001b[0;32m\"<ipython-input-36-07ce4b7e47c4>\"\u001b[0;36m, line \u001b[0;32m33\u001b[0m\n\u001b[0;31m    \"Bengaluru.txt\": \"\"\"Lalbagh Botanical Garden: A sprawling garden with rare plant species and a famous glasshouse.\u001b[0m\n\u001b[0m                     ^\u001b[0m\n\u001b[0;31mSyntaxError\u001b[0m\u001b[0;31m:\u001b[0m unterminated triple-quoted string literal (detected at line 43)\n"
          ]
        }
      ]
    },
    {
      "cell_type": "code",
      "source": [],
      "metadata": {
        "id": "adE-D3s0lHmU"
      },
      "execution_count": null,
      "outputs": []
    }
  ]
}